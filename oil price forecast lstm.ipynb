{
 "cells": [
  {
   "cell_type": "code",
   "execution_count": 1,
   "metadata": {
    "collapsed": false
   },
   "outputs": [
    {
     "name": "stdout",
     "output_type": "stream",
     "text": [
      "\u001b[31mtensorflow-serving-api 1.14.0 has requirement tensorflow~=1.14.0, but you'll have tensorflow 2.0.0b1 which is incompatible.\u001b[0m\n",
      "\u001b[33mYou are using pip version 10.0.1, however version 19.3.1 is available.\n",
      "You should consider upgrading via the 'pip install --upgrade pip' command.\u001b[0m\n"
     ]
    }
   ],
   "source": [
    "!pip install -q tensorflow==2.0.0-beta1"
   ]
  },
  {
   "cell_type": "code",
   "execution_count": 2,
   "metadata": {
    "collapsed": false
   },
   "outputs": [
    {
     "name": "stdout",
     "output_type": "stream",
     "text": [
      "\u001b[31mtensorflow-serving-api 1.14.0 has requirement tensorflow~=1.14.0, but you'll have tensorflow 2.0.0b1 which is incompatible.\u001b[0m\n",
      "\u001b[33mYou are using pip version 10.0.1, however version 19.3.1 is available.\n",
      "You should consider upgrading via the 'pip install --upgrade pip' command.\u001b[0m\n"
     ]
    }
   ],
   "source": [
    "!pip install -q statsmodels==0.9.0"
   ]
  },
  {
   "cell_type": "code",
   "execution_count": 3,
   "metadata": {
    "collapsed": false
   },
   "outputs": [
    {
     "name": "stdout",
     "output_type": "stream",
     "text": [
      "\u001b[31mtensorflow-serving-api 1.14.0 has requirement tensorflow~=1.14.0, but you'll have tensorflow 2.0.0b1 which is incompatible.\u001b[0m\n",
      "\u001b[33mYou are using pip version 10.0.1, however version 19.3.1 is available.\n",
      "You should consider upgrading via the 'pip install --upgrade pip' command.\u001b[0m\n"
     ]
    }
   ],
   "source": [
    "!pip install -q scipy==1.2"
   ]
  },
  {
   "cell_type": "code",
   "execution_count": 4,
   "metadata": {
    "collapsed": false
   },
   "outputs": [
    {
     "name": "stdout",
     "output_type": "stream",
     "text": [
      "\u001b[31mtensorflow-serving-api 1.14.0 has requirement tensorflow~=1.14.0, but you'll have tensorflow 2.0.0b1 which is incompatible.\u001b[0m\n",
      "\u001b[33mYou are using pip version 10.0.1, however version 19.3.1 is available.\n",
      "You should consider upgrading via the 'pip install --upgrade pip' command.\u001b[0m\n"
     ]
    }
   ],
   "source": [
    "!pip install -q pyramid.arima"
   ]
  },
  {
   "cell_type": "code",
   "execution_count": 5,
   "metadata": {
    "collapsed": true
   },
   "outputs": [],
   "source": [
    "import os\n",
    "import csv\n",
    "import random\n",
    "import statsmodels.api as sm\n",
    "import statsmodels.formula.api as smf\n",
    "import numpy as np\n",
    "import pandas as pd\n",
    "from sklearn.model_selection import train_test_split\n",
    "from sklearn.linear_model import LogisticRegression\n",
    "from sklearn.ensemble import ExtraTreesClassifier\n",
    "from sklearn.preprocessing import MinMaxScaler"
   ]
  },
  {
   "cell_type": "code",
   "execution_count": 6,
   "metadata": {
    "collapsed": true
   },
   "outputs": [],
   "source": [
    "import boto3 \n",
    "import botocore \n",
    "import pandas as pd \n",
    "from sagemaker import get_execution_role \n",
    "\n",
    "role = get_execution_role() \n",
    "\n",
    "bucket = 'enter_bucket_name' \n",
    "data_key = 'enter_csv_name.csv'\n",
    "data_location = 's3://{}/{}'.format(bucket, data_key) \n",
    "\n",
    "df = pd.read_csv(data_location)"
   ]
  },
  {
   "cell_type": "code",
   "execution_count": 7,
   "metadata": {
    "collapsed": true
   },
   "outputs": [],
   "source": [
    "from pandas import DataFrame"
   ]
  },
  {
   "cell_type": "code",
   "execution_count": 8,
   "metadata": {
    "collapsed": false
   },
   "outputs": [
    {
     "data": {
      "text/plain": [
       "0       18.63\n",
       "1       18.45\n",
       "2       18.55\n",
       "3       18.60\n",
       "4       18.63\n",
       "5       18.60\n",
       "6       18.60\n",
       "7       18.58\n",
       "8       18.65\n",
       "9       18.68\n",
       "10      18.75\n",
       "11      18.78\n",
       "12      18.65\n",
       "13      18.75\n",
       "14      18.78\n",
       "15      18.78\n",
       "16      18.68\n",
       "17      18.78\n",
       "18      18.90\n",
       "19      19.03\n",
       "20      19.05\n",
       "21      19.05\n",
       "22      19.10\n",
       "23      18.90\n",
       "24      18.75\n",
       "25      18.70\n",
       "26      19.08\n",
       "27      19.15\n",
       "28      19.08\n",
       "29      18.98\n",
       "        ...  \n",
       "8186    59.03\n",
       "8187    60.60\n",
       "8188    59.81\n",
       "8189    58.64\n",
       "8190    58.64\n",
       "8191    58.44\n",
       "8192    60.42\n",
       "8193    60.59\n",
       "8194    61.04\n",
       "8195    58.55\n",
       "8196    57.93\n",
       "8197    60.68\n",
       "8198    62.70\n",
       "8199    61.28\n",
       "8200    63.99\n",
       "8201    64.67\n",
       "8202    63.02\n",
       "8203    60.76\n",
       "8204    61.25\n",
       "8205    68.42\n",
       "8206    65.59\n",
       "8207    64.29\n",
       "8208    64.25\n",
       "8209    65.23\n",
       "8210    64.66\n",
       "8211    64.13\n",
       "8212    62.41\n",
       "8213    62.08\n",
       "8214    62.48\n",
       "8215    60.99\n",
       "Name: Price, Length: 8216, dtype: float64"
      ]
     },
     "execution_count": 8,
     "metadata": {},
     "output_type": "execute_result"
    }
   ],
   "source": [
    "tseries=df['Price']\n",
    "tseries"
   ]
  },
  {
   "cell_type": "code",
   "execution_count": 9,
   "metadata": {
    "collapsed": false
   },
   "outputs": [
    {
     "name": "stdout",
     "output_type": "stream",
     "text": [
      "ADF Statistic: -1.954749\n",
      "p-value: 0.306759\n",
      "Critical Values:\n",
      "\t1%: -3.431\n",
      "\t5%: -2.862\n",
      "\t10%: -2.567\n"
     ]
    }
   ],
   "source": [
    "from statsmodels.tsa.stattools import adfuller\n",
    "result = adfuller(tseries)\n",
    "print('ADF Statistic: %f' % result[0])\n",
    "print('p-value: %f' % result[1])\n",
    "print('Critical Values:')\n",
    "for key, value in result[4].items():\n",
    "    print('\\t%s: %.3f' % (key, value))"
   ]
  },
  {
   "cell_type": "code",
   "execution_count": 10,
   "metadata": {
    "collapsed": true
   },
   "outputs": [],
   "source": [
    "tsdiff=np.log(tseries)"
   ]
  },
  {
   "cell_type": "code",
   "execution_count": 11,
   "metadata": {
    "collapsed": false
   },
   "outputs": [
    {
     "name": "stdout",
     "output_type": "stream",
     "text": [
      "ADF Statistic: -1.613410\n",
      "p-value: 0.476186\n",
      "Critical Values:\n",
      "\t1%: -3.431\n",
      "\t5%: -2.862\n",
      "\t10%: -2.567\n"
     ]
    }
   ],
   "source": [
    "result = adfuller(tsdiff)\n",
    "print('ADF Statistic: %f' % result[0])\n",
    "print('p-value: %f' % result[1])\n",
    "print('Critical Values:')\n",
    "for key, value in result[4].items():\n",
    "    print('\\t%s: %.3f' % (key, value))"
   ]
  },
  {
   "cell_type": "code",
   "execution_count": 12,
   "metadata": {
    "collapsed": false
   },
   "outputs": [
    {
     "data": {
      "image/png": "[encoded data removed]",
      "text/plain": [
       "<Figure size 432x288 with 1 Axes>"
      ]
     },
     "metadata": {},
     "output_type": "display_data"
    }
   ],
   "source": [
    "import matplotlib.pyplot as plt\n",
    "plt.plot(tsdiff)\n",
    "plt.tick_params(\n",
    "    axis='x',          # changes apply to the x-axis\n",
    "    which='both',      # both major and minor ticks are affected\n",
    "    bottom=False,      # ticks along the bottom edge are off\n",
    "    top=False,         # ticks along the top edge are off\n",
    "    labelbottom=False) # labels along the bottom edge are off\n",
    "plt.ylabel('Price')\n",
    "plt.title(\"Oil Prices\")\n",
    "plt.show()"
   ]
  },
  {
   "cell_type": "code",
   "execution_count": 13,
   "metadata": {
    "collapsed": false
   },
   "outputs": [
    {
     "data": {
      "text/html": [
       "<div>\n",
       "<style scoped>\n",
       "    .dataframe tbody tr th:only-of-type {\n",
       "        vertical-align: middle;\n",
       "    }\n",
       "\n",
       "    .dataframe tbody tr th {\n",
       "        vertical-align: top;\n",
       "    }\n",
       "\n",
       "    .dataframe thead th {\n",
       "        text-align: right;\n",
       "    }\n",
       "</style>\n",
       "<table border=\"1\" class=\"dataframe\">\n",
       "  <thead>\n",
       "    <tr style=\"text-align: right;\">\n",
       "      <th></th>\n",
       "      <th>Price</th>\n",
       "    </tr>\n",
       "  </thead>\n",
       "  <tbody>\n",
       "    <tr>\n",
       "      <th>0</th>\n",
       "      <td>2.924773</td>\n",
       "    </tr>\n",
       "    <tr>\n",
       "      <th>1</th>\n",
       "      <td>2.915064</td>\n",
       "    </tr>\n",
       "    <tr>\n",
       "      <th>2</th>\n",
       "      <td>2.920470</td>\n",
       "    </tr>\n",
       "    <tr>\n",
       "      <th>3</th>\n",
       "      <td>2.923162</td>\n",
       "    </tr>\n",
       "    <tr>\n",
       "      <th>4</th>\n",
       "      <td>2.924773</td>\n",
       "    </tr>\n",
       "    <tr>\n",
       "      <th>5</th>\n",
       "      <td>2.923162</td>\n",
       "    </tr>\n",
       "    <tr>\n",
       "      <th>6</th>\n",
       "      <td>2.923162</td>\n",
       "    </tr>\n",
       "    <tr>\n",
       "      <th>7</th>\n",
       "      <td>2.922086</td>\n",
       "    </tr>\n",
       "    <tr>\n",
       "      <th>8</th>\n",
       "      <td>2.925846</td>\n",
       "    </tr>\n",
       "    <tr>\n",
       "      <th>9</th>\n",
       "      <td>2.927453</td>\n",
       "    </tr>\n",
       "    <tr>\n",
       "      <th>10</th>\n",
       "      <td>2.931194</td>\n",
       "    </tr>\n",
       "    <tr>\n",
       "      <th>11</th>\n",
       "      <td>2.932792</td>\n",
       "    </tr>\n",
       "    <tr>\n",
       "      <th>12</th>\n",
       "      <td>2.925846</td>\n",
       "    </tr>\n",
       "    <tr>\n",
       "      <th>13</th>\n",
       "      <td>2.931194</td>\n",
       "    </tr>\n",
       "    <tr>\n",
       "      <th>14</th>\n",
       "      <td>2.932792</td>\n",
       "    </tr>\n",
       "    <tr>\n",
       "      <th>15</th>\n",
       "      <td>2.932792</td>\n",
       "    </tr>\n",
       "    <tr>\n",
       "      <th>16</th>\n",
       "      <td>2.927453</td>\n",
       "    </tr>\n",
       "    <tr>\n",
       "      <th>17</th>\n",
       "      <td>2.932792</td>\n",
       "    </tr>\n",
       "    <tr>\n",
       "      <th>18</th>\n",
       "      <td>2.939162</td>\n",
       "    </tr>\n",
       "    <tr>\n",
       "      <th>19</th>\n",
       "      <td>2.946017</td>\n",
       "    </tr>\n",
       "    <tr>\n",
       "      <th>20</th>\n",
       "      <td>2.947067</td>\n",
       "    </tr>\n",
       "    <tr>\n",
       "      <th>21</th>\n",
       "      <td>2.947067</td>\n",
       "    </tr>\n",
       "    <tr>\n",
       "      <th>22</th>\n",
       "      <td>2.949688</td>\n",
       "    </tr>\n",
       "    <tr>\n",
       "      <th>23</th>\n",
       "      <td>2.939162</td>\n",
       "    </tr>\n",
       "    <tr>\n",
       "      <th>24</th>\n",
       "      <td>2.931194</td>\n",
       "    </tr>\n",
       "    <tr>\n",
       "      <th>25</th>\n",
       "      <td>2.928524</td>\n",
       "    </tr>\n",
       "    <tr>\n",
       "      <th>26</th>\n",
       "      <td>2.948641</td>\n",
       "    </tr>\n",
       "    <tr>\n",
       "      <th>27</th>\n",
       "      <td>2.952303</td>\n",
       "    </tr>\n",
       "    <tr>\n",
       "      <th>28</th>\n",
       "      <td>2.948641</td>\n",
       "    </tr>\n",
       "    <tr>\n",
       "      <th>29</th>\n",
       "      <td>2.943386</td>\n",
       "    </tr>\n",
       "    <tr>\n",
       "      <th>...</th>\n",
       "      <td>...</td>\n",
       "    </tr>\n",
       "    <tr>\n",
       "      <th>8186</th>\n",
       "      <td>4.078046</td>\n",
       "    </tr>\n",
       "    <tr>\n",
       "      <th>8187</th>\n",
       "      <td>4.104295</td>\n",
       "    </tr>\n",
       "    <tr>\n",
       "      <th>8188</th>\n",
       "      <td>4.091173</td>\n",
       "    </tr>\n",
       "    <tr>\n",
       "      <th>8189</th>\n",
       "      <td>4.071417</td>\n",
       "    </tr>\n",
       "    <tr>\n",
       "      <th>8190</th>\n",
       "      <td>4.071417</td>\n",
       "    </tr>\n",
       "    <tr>\n",
       "      <th>8191</th>\n",
       "      <td>4.068001</td>\n",
       "    </tr>\n",
       "    <tr>\n",
       "      <th>8192</th>\n",
       "      <td>4.101320</td>\n",
       "    </tr>\n",
       "    <tr>\n",
       "      <th>8193</th>\n",
       "      <td>4.104130</td>\n",
       "    </tr>\n",
       "    <tr>\n",
       "      <th>8194</th>\n",
       "      <td>4.111529</td>\n",
       "    </tr>\n",
       "    <tr>\n",
       "      <th>8195</th>\n",
       "      <td>4.069881</td>\n",
       "    </tr>\n",
       "    <tr>\n",
       "      <th>8196</th>\n",
       "      <td>4.059235</td>\n",
       "    </tr>\n",
       "    <tr>\n",
       "      <th>8197</th>\n",
       "      <td>4.105614</td>\n",
       "    </tr>\n",
       "    <tr>\n",
       "      <th>8198</th>\n",
       "      <td>4.138361</td>\n",
       "    </tr>\n",
       "    <tr>\n",
       "      <th>8199</th>\n",
       "      <td>4.115454</td>\n",
       "    </tr>\n",
       "    <tr>\n",
       "      <th>8200</th>\n",
       "      <td>4.158727</td>\n",
       "    </tr>\n",
       "    <tr>\n",
       "      <th>8201</th>\n",
       "      <td>4.169297</td>\n",
       "    </tr>\n",
       "    <tr>\n",
       "      <th>8202</th>\n",
       "      <td>4.143452</td>\n",
       "    </tr>\n",
       "    <tr>\n",
       "      <th>8203</th>\n",
       "      <td>4.106932</td>\n",
       "    </tr>\n",
       "    <tr>\n",
       "      <th>8204</th>\n",
       "      <td>4.114964</td>\n",
       "    </tr>\n",
       "    <tr>\n",
       "      <th>8205</th>\n",
       "      <td>4.225665</td>\n",
       "    </tr>\n",
       "    <tr>\n",
       "      <th>8206</th>\n",
       "      <td>4.183423</td>\n",
       "    </tr>\n",
       "    <tr>\n",
       "      <th>8207</th>\n",
       "      <td>4.163404</td>\n",
       "    </tr>\n",
       "    <tr>\n",
       "      <th>8208</th>\n",
       "      <td>4.162782</td>\n",
       "    </tr>\n",
       "    <tr>\n",
       "      <th>8209</th>\n",
       "      <td>4.177919</td>\n",
       "    </tr>\n",
       "    <tr>\n",
       "      <th>8210</th>\n",
       "      <td>4.169143</td>\n",
       "    </tr>\n",
       "    <tr>\n",
       "      <th>8211</th>\n",
       "      <td>4.160912</td>\n",
       "    </tr>\n",
       "    <tr>\n",
       "      <th>8212</th>\n",
       "      <td>4.133726</td>\n",
       "    </tr>\n",
       "    <tr>\n",
       "      <th>8213</th>\n",
       "      <td>4.128424</td>\n",
       "    </tr>\n",
       "    <tr>\n",
       "      <th>8214</th>\n",
       "      <td>4.134847</td>\n",
       "    </tr>\n",
       "    <tr>\n",
       "      <th>8215</th>\n",
       "      <td>4.110710</td>\n",
       "    </tr>\n",
       "  </tbody>\n",
       "</table>\n",
       "<p>8216 rows × 1 columns</p>\n",
       "</div>"
      ],
      "text/plain": [
       "         Price\n",
       "0     2.924773\n",
       "1     2.915064\n",
       "2     2.920470\n",
       "3     2.923162\n",
       "4     2.924773\n",
       "5     2.923162\n",
       "6     2.923162\n",
       "7     2.922086\n",
       "8     2.925846\n",
       "9     2.927453\n",
       "10    2.931194\n",
       "11    2.932792\n",
       "12    2.925846\n",
       "13    2.931194\n",
       "14    2.932792\n",
       "15    2.932792\n",
       "16    2.927453\n",
       "17    2.932792\n",
       "18    2.939162\n",
       "19    2.946017\n",
       "20    2.947067\n",
       "21    2.947067\n",
       "22    2.949688\n",
       "23    2.939162\n",
       "24    2.931194\n",
       "25    2.928524\n",
       "26    2.948641\n",
       "27    2.952303\n",
       "28    2.948641\n",
       "29    2.943386\n",
       "...        ...\n",
       "8186  4.078046\n",
       "8187  4.104295\n",
       "8188  4.091173\n",
       "8189  4.071417\n",
       "8190  4.071417\n",
       "8191  4.068001\n",
       "8192  4.101320\n",
       "8193  4.104130\n",
       "8194  4.111529\n",
       "8195  4.069881\n",
       "8196  4.059235\n",
       "8197  4.105614\n",
       "8198  4.138361\n",
       "8199  4.115454\n",
       "8200  4.158727\n",
       "8201  4.169297\n",
       "8202  4.143452\n",
       "8203  4.106932\n",
       "8204  4.114964\n",
       "8205  4.225665\n",
       "8206  4.183423\n",
       "8207  4.163404\n",
       "8208  4.162782\n",
       "8209  4.177919\n",
       "8210  4.169143\n",
       "8211  4.160912\n",
       "8212  4.133726\n",
       "8213  4.128424\n",
       "8214  4.134847\n",
       "8215  4.110710\n",
       "\n",
       "[8216 rows x 1 columns]"
      ]
     },
     "execution_count": 13,
     "metadata": {},
     "output_type": "execute_result"
    }
   ],
   "source": [
    "df=pd.DataFrame(tsdiff)\n",
    "df"
   ]
  },
  {
   "cell_type": "code",
   "execution_count": 14,
   "metadata": {
    "collapsed": true
   },
   "outputs": [],
   "source": [
    "# Form dataset matrix\n",
    "def create_dataset(df, previous=1):\n",
    "    dataX, dataY = [], []\n",
    "    for i in range(len(df)-previous-1):\n",
    "        a = df[i:(i+previous), 0]\n",
    "        dataX.append(a)\n",
    "        dataY.append(df[i + previous, 0])\n",
    "    return np.array(dataX), np.array(dataY)"
   ]
  },
  {
   "cell_type": "code",
   "execution_count": 15,
   "metadata": {
    "collapsed": true
   },
   "outputs": [],
   "source": [
    "df=np.array(df)"
   ]
  },
  {
   "cell_type": "code",
   "execution_count": 16,
   "metadata": {
    "collapsed": false
   },
   "outputs": [
    {
     "data": {
      "text/plain": [
       "array([[2.92477318],\n",
       "       [2.91506437],\n",
       "       [2.92046979],\n",
       "       ...,\n",
       "       [4.12842388],\n",
       "       [4.13484651],\n",
       "       [4.11070992]])"
      ]
     },
     "execution_count": 16,
     "metadata": {},
     "output_type": "execute_result"
    }
   ],
   "source": [
    "df"
   ]
  },
  {
   "cell_type": "code",
   "execution_count": 17,
   "metadata": {
    "collapsed": false
   },
   "outputs": [
    {
     "data": {
      "text/plain": [
       "array([[0.25948897],\n",
       "       [0.2559728 ],\n",
       "       [0.25793044],\n",
       "       ...,\n",
       "       [0.69540609],\n",
       "       [0.69773213],\n",
       "       [0.68899076]])"
      ]
     },
     "execution_count": 17,
     "metadata": {},
     "output_type": "execute_result"
    }
   ],
   "source": [
    "# normalize dataset with MinMaxScaler\n",
    "scaler = MinMaxScaler(feature_range=(0, 1))\n",
    "df = scaler.fit_transform(df)\n",
    "df"
   ]
  },
  {
   "cell_type": "code",
   "execution_count": 18,
   "metadata": {
    "collapsed": true
   },
   "outputs": [],
   "source": [
    "import tensorflow as tf\n",
    "from tensorflow.keras import layers\n",
    "from tensorflow.keras.layers import Dense\n",
    "from tensorflow.keras.layers import LSTM\n",
    "\n",
    "# Training and Validation data partition\n",
    "train_size = int(len(df) * 0.8)\n",
    "val_size = len(df) - train_size\n",
    "train, val = df[0:train_size,:], df[train_size:len(df),:]\n",
    "\n",
    "# Number of previous\n",
    "previous = 500\n",
    "X_train, Y_train = create_dataset(train, previous)\n",
    "X_val, Y_val = create_dataset(val, previous)"
   ]
  },
  {
   "cell_type": "code",
   "execution_count": 19,
   "metadata": {
    "collapsed": false
   },
   "outputs": [
    {
     "data": {
      "text/plain": [
       "array([[0.25948897, 0.2559728 , 0.25793044, ..., 0.26945914, 0.26431659,\n",
       "        0.2797141 ],\n",
       "       [0.2559728 , 0.25793044, 0.25890531, ..., 0.26431659, 0.2797141 ,\n",
       "        0.27415651],\n",
       "       [0.25793044, 0.25890531, 0.25948897, ..., 0.2797141 , 0.27415651,\n",
       "        0.26277874],\n",
       "       ...,\n",
       "       [0.94306793, 0.94274392, 0.95262698, ..., 0.87933295, 0.88254847,\n",
       "        0.88504519],\n",
       "       [0.94274392, 0.95262698, 0.95308549, ..., 0.88254847, 0.88504519,\n",
       "        0.88094428],\n",
       "       [0.95262698, 0.95308549, 0.93808763, ..., 0.88504519, 0.88094428,\n",
       "        0.87016019]])"
      ]
     },
     "execution_count": 19,
     "metadata": {},
     "output_type": "execute_result"
    }
   ],
   "source": [
    "X_train"
   ]
  },
  {
   "cell_type": "code",
   "execution_count": 20,
   "metadata": {
    "collapsed": false
   },
   "outputs": [
    {
     "data": {
      "text/plain": [
       "array([0.27415651, 0.26277874, 0.26718257, ..., 0.88094428, 0.87016019,\n",
       "       0.8655946 ])"
      ]
     },
     "execution_count": 20,
     "metadata": {},
     "output_type": "execute_result"
    }
   ],
   "source": [
    "Y_train"
   ]
  },
  {
   "cell_type": "code",
   "execution_count": 21,
   "metadata": {
    "collapsed": false
   },
   "outputs": [
    {
     "name": "stdout",
     "output_type": "stream",
     "text": [
      "WARNING:tensorflow:Entity <function standard_lstm at 0x7f3a78aaa8c8> could not be transformed and will be executed as-is. Please report this to the AutoGraph team. When filing the bug, set the verbosity to 10 (on Linux, `export AUTOGRAPH_VERBOSITY=10`) and attach the full output. Cause: converting <function standard_lstm at 0x7f3a78aaa8c8>: AttributeError: module 'gast' has no attribute 'Num'\n",
      "WARNING: Entity <function standard_lstm at 0x7f3a78aaa8c8> could not be transformed and will be executed as-is. Please report this to the AutoGraph team. When filing the bug, set the verbosity to 10 (on Linux, `export AUTOGRAPH_VERBOSITY=10`) and attach the full output. Cause: converting <function standard_lstm at 0x7f3a78aaa8c8>: AttributeError: module 'gast' has no attribute 'Num'\n",
      "WARNING:tensorflow:Entity <function cudnn_lstm at 0x7f3a78aaa950> could not be transformed and will be executed as-is. Please report this to the AutoGraph team. When filing the bug, set the verbosity to 10 (on Linux, `export AUTOGRAPH_VERBOSITY=10`) and attach the full output. Cause: converting <function cudnn_lstm at 0x7f3a78aaa950>: AttributeError: module 'gast' has no attribute 'Num'\n",
      "WARNING: Entity <function cudnn_lstm at 0x7f3a78aaa950> could not be transformed and will be executed as-is. Please report this to the AutoGraph team. When filing the bug, set the verbosity to 10 (on Linux, `export AUTOGRAPH_VERBOSITY=10`) and attach the full output. Cause: converting <function cudnn_lstm at 0x7f3a78aaa950>: AttributeError: module 'gast' has no attribute 'Num'\n",
      "Train on 4856 samples, validate on 1215 samples\n",
      "Epoch 1/60\n",
      "4856/4856 - 9s - loss: 0.0077 - val_loss: 0.0075\n",
      "Epoch 2/60\n",
      "4856/4856 - 8s - loss: 0.0040 - val_loss: 0.0045\n",
      "Epoch 3/60\n",
      "4856/4856 - 8s - loss: 0.0035 - val_loss: 0.0085\n",
      "Epoch 4/60\n",
      "4856/4856 - 8s - loss: 0.0035 - val_loss: 0.0106\n",
      "Epoch 5/60\n",
      "4856/4856 - 8s - loss: 0.0032 - val_loss: 0.0089\n",
      "Epoch 6/60\n",
      "4856/4856 - 8s - loss: 0.0026 - val_loss: 0.0237\n",
      "Epoch 7/60\n",
      "4856/4856 - 8s - loss: 0.0028 - val_loss: 0.0112\n",
      "Epoch 8/60\n",
      "4856/4856 - 8s - loss: 0.0031 - val_loss: 0.0032\n",
      "Epoch 9/60\n",
      "4856/4856 - 8s - loss: 0.0025 - val_loss: 0.0024\n",
      "Epoch 10/60\n",
      "4856/4856 - 8s - loss: 0.0074 - val_loss: 0.0561\n",
      "Epoch 11/60\n",
      "4856/4856 - 8s - loss: 0.0074 - val_loss: 0.0251\n",
      "Epoch 12/60\n",
      "4856/4856 - 8s - loss: 0.0070 - val_loss: 0.0319\n",
      "Epoch 13/60\n",
      "4856/4856 - 8s - loss: 0.0066 - val_loss: 0.0293\n",
      "Epoch 14/60\n",
      "4856/4856 - 8s - loss: 0.0064 - val_loss: 0.0260\n",
      "Epoch 15/60\n",
      "4856/4856 - 8s - loss: 0.0053 - val_loss: 0.0243\n",
      "Epoch 16/60\n",
      "4856/4856 - 8s - loss: 0.0059 - val_loss: 0.0269\n",
      "Epoch 17/60\n",
      "4856/4856 - 8s - loss: 0.0058 - val_loss: 0.0306\n",
      "Epoch 18/60\n",
      "4856/4856 - 8s - loss: 0.0052 - val_loss: 0.0203\n",
      "Epoch 19/60\n",
      "4856/4856 - 8s - loss: 0.0056 - val_loss: 0.0280\n",
      "Epoch 20/60\n",
      "4856/4856 - 8s - loss: 0.0050 - val_loss: 0.0226\n",
      "Epoch 21/60\n",
      "4856/4856 - 8s - loss: 0.0049 - val_loss: 0.0217\n",
      "Epoch 22/60\n",
      "4856/4856 - 8s - loss: 0.0050 - val_loss: 0.0225\n",
      "Epoch 23/60\n",
      "4856/4856 - 8s - loss: 0.0050 - val_loss: 0.0219\n",
      "Epoch 24/60\n",
      "4856/4856 - 8s - loss: 0.0048 - val_loss: 0.0227\n",
      "Epoch 25/60\n",
      "4856/4856 - 8s - loss: 0.0047 - val_loss: 0.0183\n",
      "Epoch 26/60\n",
      "4856/4856 - 8s - loss: 0.0044 - val_loss: 0.0202\n",
      "Epoch 27/60\n",
      "4856/4856 - 8s - loss: 0.0044 - val_loss: 0.0212\n",
      "Epoch 28/60\n",
      "4856/4856 - 8s - loss: 0.0046 - val_loss: 0.0210\n",
      "Epoch 29/60\n",
      "4856/4856 - 8s - loss: 0.0044 - val_loss: 0.0224\n",
      "Epoch 30/60\n",
      "4856/4856 - 8s - loss: 0.0044 - val_loss: 0.0268\n",
      "Epoch 31/60\n",
      "4856/4856 - 8s - loss: 0.0042 - val_loss: 0.0206\n",
      "Epoch 32/60\n",
      "4856/4856 - 8s - loss: 0.0047 - val_loss: 0.0268\n",
      "Epoch 33/60\n",
      "4856/4856 - 8s - loss: 0.0041 - val_loss: 0.0218\n",
      "Epoch 34/60\n",
      "4856/4856 - 8s - loss: 0.0044 - val_loss: 0.0231\n",
      "Epoch 35/60\n",
      "4856/4856 - 8s - loss: 0.0045 - val_loss: 0.0231\n",
      "Epoch 36/60\n",
      "4856/4856 - 8s - loss: 0.0041 - val_loss: 0.0189\n",
      "Epoch 37/60\n",
      "4856/4856 - 8s - loss: 0.0043 - val_loss: 0.0211\n",
      "Epoch 38/60\n",
      "4856/4856 - 8s - loss: 0.0042 - val_loss: 0.0226\n",
      "Epoch 39/60\n",
      "4856/4856 - 8s - loss: 0.0041 - val_loss: 0.0196\n",
      "Epoch 40/60\n",
      "4856/4856 - 8s - loss: 0.0043 - val_loss: 0.0201\n",
      "Epoch 41/60\n",
      "4856/4856 - 8s - loss: 0.0041 - val_loss: 0.0233\n",
      "Epoch 42/60\n",
      "4856/4856 - 8s - loss: 0.0044 - val_loss: 0.0246\n",
      "Epoch 43/60\n",
      "4856/4856 - 8s - loss: 0.0042 - val_loss: 0.0218\n",
      "Epoch 44/60\n",
      "4856/4856 - 8s - loss: 0.0041 - val_loss: 0.0212\n",
      "Epoch 45/60\n",
      "4856/4856 - 8s - loss: 0.0043 - val_loss: 0.0219\n",
      "Epoch 46/60\n",
      "4856/4856 - 8s - loss: 0.0040 - val_loss: 0.0198\n",
      "Epoch 47/60\n",
      "4856/4856 - 8s - loss: 0.0042 - val_loss: 0.0204\n",
      "Epoch 48/60\n",
      "4856/4856 - 8s - loss: 0.0040 - val_loss: 0.0204\n",
      "Epoch 49/60\n",
      "4856/4856 - 8s - loss: 0.0044 - val_loss: 0.0214\n",
      "Epoch 50/60\n",
      "4856/4856 - 8s - loss: 0.0041 - val_loss: 0.0183\n",
      "Epoch 51/60\n",
      "4856/4856 - 8s - loss: 0.0043 - val_loss: 0.0219\n",
      "Epoch 52/60\n",
      "4856/4856 - 8s - loss: 0.0039 - val_loss: 0.0216\n",
      "Epoch 53/60\n",
      "4856/4856 - 8s - loss: 0.0041 - val_loss: 0.0206\n",
      "Epoch 54/60\n",
      "4856/4856 - 8s - loss: 0.0041 - val_loss: 0.0224\n",
      "Epoch 55/60\n",
      "4856/4856 - 8s - loss: 0.0038 - val_loss: 0.0202\n",
      "Epoch 56/60\n",
      "4856/4856 - 8s - loss: 0.0041 - val_loss: 0.0216\n",
      "Epoch 57/60\n",
      "4856/4856 - 8s - loss: 0.0042 - val_loss: 0.0183\n",
      "Epoch 58/60\n",
      "4856/4856 - 8s - loss: 0.0039 - val_loss: 0.0208\n",
      "Epoch 59/60\n",
      "4856/4856 - 8s - loss: 0.0040 - val_loss: 0.0234\n",
      "Epoch 60/60\n",
      "4856/4856 - 8s - loss: 0.0040 - val_loss: 0.0223\n",
      "dict_keys(['loss', 'val_loss'])\n"
     ]
    },
    {
     "data": {
      "image/png": "[encoded data removed]",
      "text/plain": [
       "<Figure size 432x288 with 1 Axes>"
      ]
     },
     "metadata": {},
     "output_type": "display_data"
    }
   ],
   "source": [
    "from tensorflow.keras.layers import Dropout\n",
    "\n",
    "# reshape input to be [samples, time steps, features]\n",
    "X_train = np.reshape(X_train, (X_train.shape[0], 1, X_train.shape[1]))\n",
    "X_val = np.reshape(X_val, (X_val.shape[0], 1, X_val.shape[1]))\n",
    "\n",
    "# Generate LSTM network\n",
    "model = tf.keras.Sequential()\n",
    "model.add(LSTM(4, input_shape=(1, previous)))\n",
    "model.add(Dropout(0.05))\n",
    "model.add(Dense(1))\n",
    "model.compile(loss='mean_squared_error', optimizer='adam')\n",
    "history=model.fit(X_train, Y_train, validation_split=0.2, epochs=60, batch_size=1, verbose=2)\n",
    "\n",
    "# list all data in history\n",
    "print(history.history.keys())\n",
    "# summarize history for accuracy\n",
    "plt.plot(history.history['loss'])\n",
    "plt.plot(history.history['val_loss'])\n",
    "plt.title('model loss')\n",
    "plt.ylabel('loss')\n",
    "plt.xlabel('epoch')\n",
    "plt.legend(['train', 'val'], loc='upper left')\n",
    "plt.show()"
   ]
  },
  {
   "cell_type": "code",
   "execution_count": 22,
   "metadata": {
    "collapsed": true
   },
   "outputs": [],
   "source": [
    "# Generate predictions\n",
    "trainpred = model.predict(X_train)\n",
    "valpred = model.predict(X_val)"
   ]
  },
  {
   "cell_type": "code",
   "execution_count": 23,
   "metadata": {
    "collapsed": false
   },
   "outputs": [
    {
     "data": {
      "text/plain": [
       "array([[0.27005732],\n",
       "       [0.26809362],\n",
       "       [0.26045114],\n",
       "       ...,\n",
       "       [0.717236  ],\n",
       "       [0.7171772 ],\n",
       "       [0.7170148 ]], dtype=float32)"
      ]
     },
     "execution_count": 23,
     "metadata": {},
     "output_type": "execute_result"
    }
   ],
   "source": [
    "trainpred"
   ]
  },
  {
   "cell_type": "code",
   "execution_count": 24,
   "metadata": {
    "collapsed": false
   },
   "outputs": [
    {
     "data": {
      "text/plain": [
       "array([[0.6909593 ],\n",
       "       [0.691109  ],\n",
       "       [0.69122636],\n",
       "       ...,\n",
       "       [0.6993333 ],\n",
       "       [0.69873965],\n",
       "       [0.6981284 ]], dtype=float32)"
      ]
     },
     "execution_count": 24,
     "metadata": {},
     "output_type": "execute_result"
    }
   ],
   "source": [
    "valpred"
   ]
  },
  {
   "cell_type": "code",
   "execution_count": 25,
   "metadata": {
    "collapsed": true
   },
   "outputs": [],
   "source": [
    "# Convert predictions back to normal values\n",
    "trainpred = scaler.inverse_transform(trainpred)\n",
    "Y_train = scaler.inverse_transform([Y_train])\n",
    "valpred = scaler.inverse_transform(valpred)\n",
    "Y_val = scaler.inverse_transform([Y_val])\n",
    "predictions = valpred"
   ]
  },
  {
   "cell_type": "code",
   "execution_count": 26,
   "metadata": {
    "collapsed": false
   },
   "outputs": [
    {
     "name": "stdout",
     "output_type": "stream",
     "text": [
      "Train Score: 0.21 RMSE\n",
      "Validation Score: 0.14 RMSE\n"
     ]
    }
   ],
   "source": [
    "import math\n",
    "from sklearn.metrics import mean_squared_error\n",
    "\n",
    "# calculate RMSE\n",
    "trainScore = math.sqrt(mean_squared_error(Y_train[0], trainpred[:,0]))\n",
    "print('Train Score: %.2f RMSE' % (trainScore))\n",
    "valScore = math.sqrt(mean_squared_error(Y_val[0], valpred[:,0]))\n",
    "print('Validation Score: %.2f RMSE' % (valScore))"
   ]
  },
  {
   "cell_type": "code",
   "execution_count": 27,
   "metadata": {
    "collapsed": true
   },
   "outputs": [],
   "source": [
    "# Train predictions\n",
    "trainpredPlot = np.empty_like(df)\n",
    "trainpredPlot[:, :] = np.nan\n",
    "trainpredPlot[previous:len(trainpred)+previous, :] = trainpred"
   ]
  },
  {
   "cell_type": "code",
   "execution_count": 28,
   "metadata": {
    "collapsed": true
   },
   "outputs": [],
   "source": [
    "# Validation predictions\n",
    "valpredPlot = np.empty_like(df)\n",
    "valpredPlot[:, :] = np.nan\n",
    "valpredPlot[len(trainpred)+(previous*2)+1:len(df)-1, :] = valpred"
   ]
  },
  {
   "cell_type": "code",
   "execution_count": 29,
   "metadata": {
    "collapsed": false
   },
   "outputs": [
    {
     "data": {
      "image/png": "[encoded data removed]",
      "text/plain": [
       "<Figure size 432x288 with 1 Axes>"
      ]
     },
     "metadata": {},
     "output_type": "display_data"
    }
   ],
   "source": [
    "# Plot all predictions\n",
    "inversetransform, =plt.plot(scaler.inverse_transform(df))\n",
    "trainpred, =plt.plot(trainpredPlot)\n",
    "valpred, =plt.plot(valpredPlot)\n",
    "plt.xlabel('Number of weeks')\n",
    "plt.ylabel('Cancellations')\n",
    "plt.title(\"Predicted vs. Actual Oil Price\")\n",
    "plt.show()"
   ]
  },
  {
   "cell_type": "code",
   "execution_count": 30,
   "metadata": {
    "collapsed": true
   },
   "outputs": [],
   "source": [
    "Y_val=Y_val.reshape(-1)\n",
    "Y_val.shape\n",
    "Y_val=pd.Series(Y_val)"
   ]
  },
  {
   "cell_type": "code",
   "execution_count": 31,
   "metadata": {
    "collapsed": false
   },
   "outputs": [
    {
     "data": {
      "text/plain": [
       "0       4.032824\n",
       "1       4.026066\n",
       "2       4.039888\n",
       "3       4.045504\n",
       "4       4.055084\n",
       "5       4.082947\n",
       "6       4.096509\n",
       "7       4.115943\n",
       "8       4.114147\n",
       "9       4.096343\n",
       "10      4.096343\n",
       "11      4.137723\n",
       "12      4.142500\n",
       "13      4.140910\n",
       "14      4.136925\n",
       "15      4.158414\n",
       "16      4.157319\n",
       "17      4.160912\n",
       "18      4.168524\n",
       "19      4.181134\n",
       "20      4.192983\n",
       "21      4.173310\n",
       "22      4.156067\n",
       "23      4.140273\n",
       "24      4.175771\n",
       "25      4.194642\n",
       "26      4.183271\n",
       "27      4.169607\n",
       "28      4.176692\n",
       "29      4.150725\n",
       "          ...   \n",
       "1113    4.090838\n",
       "1114    4.078046\n",
       "1115    4.104295\n",
       "1116    4.091173\n",
       "1117    4.071417\n",
       "1118    4.071417\n",
       "1119    4.068001\n",
       "1120    4.101320\n",
       "1121    4.104130\n",
       "1122    4.111529\n",
       "1123    4.069881\n",
       "1124    4.059235\n",
       "1125    4.105614\n",
       "1126    4.138361\n",
       "1127    4.115454\n",
       "1128    4.158727\n",
       "1129    4.169297\n",
       "1130    4.143452\n",
       "1131    4.106932\n",
       "1132    4.114964\n",
       "1133    4.225665\n",
       "1134    4.183423\n",
       "1135    4.163404\n",
       "1136    4.162782\n",
       "1137    4.177919\n",
       "1138    4.169143\n",
       "1139    4.160912\n",
       "1140    4.133726\n",
       "1141    4.128424\n",
       "1142    4.134847\n",
       "Length: 1143, dtype: float64"
      ]
     },
     "execution_count": 31,
     "metadata": {},
     "output_type": "execute_result"
    }
   ],
   "source": [
    "Y_val"
   ]
  },
  {
   "cell_type": "code",
   "execution_count": 32,
   "metadata": {
    "collapsed": true
   },
   "outputs": [],
   "source": [
    "predictions=predictions.reshape(-1)\n",
    "predictions.shape\n",
    "predictions=pd.Series(predictions)"
   ]
  },
  {
   "cell_type": "code",
   "execution_count": 33,
   "metadata": {
    "collapsed": false
   },
   "outputs": [
    {
     "data": {
      "text/plain": [
       "0       4.116145\n",
       "1       4.116559\n",
       "2       4.116883\n",
       "3       4.118299\n",
       "4       4.119608\n",
       "5       4.120427\n",
       "6       4.123280\n",
       "7       4.125632\n",
       "8       4.128027\n",
       "9       4.130324\n",
       "10      4.130513\n",
       "11      4.130886\n",
       "12      4.132909\n",
       "13      4.135809\n",
       "14      4.136835\n",
       "15      4.137360\n",
       "16      4.138818\n",
       "17      4.140067\n",
       "18      4.140641\n",
       "19      4.141828\n",
       "20      4.143280\n",
       "21      4.144634\n",
       "22      4.145051\n",
       "23      4.144490\n",
       "24      4.143413\n",
       "25      4.144401\n",
       "26      4.145617\n",
       "27      4.146122\n",
       "28      4.145693\n",
       "29      4.145658\n",
       "          ...   \n",
       "1113    4.119498\n",
       "1114    4.121377\n",
       "1115    4.121797\n",
       "1116    4.123794\n",
       "1117    4.125307\n",
       "1118    4.123641\n",
       "1119    4.123224\n",
       "1120    4.122835\n",
       "1121    4.124637\n",
       "1122    4.126203\n",
       "1123    4.126760\n",
       "1124    4.123971\n",
       "1125    4.121284\n",
       "1126    4.122262\n",
       "1127    4.125421\n",
       "1128    4.126514\n",
       "1129    4.130345\n",
       "1130    4.132813\n",
       "1131    4.134193\n",
       "1132    4.133357\n",
       "1133    4.132395\n",
       "1134    4.139112\n",
       "1135    4.139823\n",
       "1136    4.139397\n",
       "1137    4.139330\n",
       "1138    4.139511\n",
       "1139    4.139296\n",
       "1140    4.139268\n",
       "1141    4.137629\n",
       "1142    4.135941\n",
       "Length: 1143, dtype: float32"
      ]
     },
     "execution_count": 33,
     "metadata": {},
     "output_type": "execute_result"
    }
   ],
   "source": [
    "predictions"
   ]
  },
  {
   "cell_type": "code",
   "execution_count": 34,
   "metadata": {
    "collapsed": true
   },
   "outputs": [],
   "source": [
    "import numpy as np\n",
    "\n",
    "def mda(actual: np.ndarray, predicted: np.ndarray):\n",
    "    \"\"\" Mean Directional Accuracy \"\"\"\n",
    "    return np.mean((np.sign(actual[1:] - actual[:-1]) == np.sign(predicted[1:] - predicted[:-1])).astype(int))"
   ]
  },
  {
   "cell_type": "code",
   "execution_count": 35,
   "metadata": {
    "collapsed": false
   },
   "outputs": [
    {
     "data": {
      "text/plain": [
       "0.9982502187226596"
      ]
     },
     "execution_count": 35,
     "metadata": {},
     "output_type": "execute_result"
    }
   ],
   "source": [
    "mda(Y_val, predictions)"
   ]
  },
  {
   "cell_type": "code",
   "execution_count": 36,
   "metadata": {
    "collapsed": false
   },
   "outputs": [
    {
     "name": "stdout",
     "output_type": "stream",
     "text": [
      "RMSE: 0.143191\n"
     ]
    }
   ],
   "source": [
    "# https://machinelearningmastery.com/time-series-forecasting-performance-measures-with-python/\n",
    "\n",
    "from sklearn.metrics import mean_squared_error\n",
    "from math import sqrt\n",
    "mse = mean_squared_error(Y_val, predictions)\n",
    "rmse = sqrt(mse)\n",
    "print('RMSE: %f' % rmse)"
   ]
  },
  {
   "cell_type": "code",
   "execution_count": 37,
   "metadata": {
    "collapsed": false
   },
   "outputs": [
    {
     "data": {
      "text/plain": [
       "0       0.083321\n",
       "1       0.090493\n",
       "2       0.076994\n",
       "3       0.072794\n",
       "4       0.064524\n",
       "5       0.037481\n",
       "6       0.026771\n",
       "7       0.009689\n",
       "8       0.013880\n",
       "9       0.033981\n",
       "10      0.034170\n",
       "11     -0.006838\n",
       "12     -0.009591\n",
       "13     -0.005101\n",
       "14     -0.000090\n",
       "15     -0.021054\n",
       "16     -0.018501\n",
       "17     -0.020845\n",
       "18     -0.027883\n",
       "19     -0.039306\n",
       "20     -0.049703\n",
       "21     -0.028676\n",
       "22     -0.011016\n",
       "23      0.004217\n",
       "24     -0.032358\n",
       "25     -0.050242\n",
       "26     -0.037654\n",
       "27     -0.023485\n",
       "28     -0.030999\n",
       "29     -0.005067\n",
       "          ...   \n",
       "1113    0.028660\n",
       "1114    0.043332\n",
       "1115    0.017502\n",
       "1116    0.032621\n",
       "1117    0.053890\n",
       "1118    0.052224\n",
       "1119    0.055224\n",
       "1120    0.021515\n",
       "1121    0.020507\n",
       "1122    0.014674\n",
       "1123    0.056879\n",
       "1124    0.064736\n",
       "1125    0.015669\n",
       "1126   -0.016100\n",
       "1127    0.009967\n",
       "1128   -0.032212\n",
       "1129   -0.038952\n",
       "1130   -0.010639\n",
       "1131    0.027262\n",
       "1132    0.018393\n",
       "1133   -0.093270\n",
       "1134   -0.044311\n",
       "1135   -0.023581\n",
       "1136   -0.023385\n",
       "1137   -0.038590\n",
       "1138   -0.029632\n",
       "1139   -0.021617\n",
       "1140    0.005542\n",
       "1141    0.009205\n",
       "1142    0.001094\n",
       "Length: 1143, dtype: float64"
      ]
     },
     "execution_count": 37,
     "metadata": {},
     "output_type": "execute_result"
    }
   ],
   "source": [
    "forecast_error = (predictions-Y_val)\n",
    "forecast_error"
   ]
  },
  {
   "cell_type": "code",
   "execution_count": 38,
   "metadata": {
    "collapsed": false
   },
   "outputs": [
    {
     "data": {
      "text/plain": [
       "0.04453484335788945"
      ]
     },
     "execution_count": 38,
     "metadata": {},
     "output_type": "execute_result"
    }
   ],
   "source": [
    "mean_forecast_error = np.mean(forecast_error)\n",
    "mean_forecast_error"
   ]
  }
 ],
 "metadata": {
  "kernelspec": {
   "display_name": "Python 3",
   "language": "python",
   "name": "python3"
  },
  "language_info": {
   "codemirror_mode": {
    "name": "ipython",
    "version": 3
   },
   "file_extension": ".py",
   "mimetype": "text/x-python",
   "name": "python",
   "nbconvert_exporter": "python",
   "pygments_lexer": "ipython3",
   "version": "3.6.0"
  }
 },
 "nbformat": 4,
 "nbformat_minor": 2
}
