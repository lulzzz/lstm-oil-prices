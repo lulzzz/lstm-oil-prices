{
 "cells": [
  {
   "cell_type": "code",
   "execution_count": 1,
   "metadata": {
    "collapsed": false
   },
   "outputs": [
    {
     "name": "stdout",
     "output_type": "stream",
     "text": [
      "\u001b[31mtensorflow-serving-api 1.14.0 has requirement tensorflow~=1.14.0, but you'll have tensorflow 2.0.0b1 which is incompatible.\u001b[0m\n",
      "\u001b[33mYou are using pip version 10.0.1, however version 19.3.1 is available.\n",
      "You should consider upgrading via the 'pip install --upgrade pip' command.\u001b[0m\n"
     ]
    }
   ],
   "source": [
    "!pip install -q tensorflow==2.0.0-beta1"
   ]
  },
  {
   "cell_type": "code",
   "execution_count": 2,
   "metadata": {
    "collapsed": false
   },
   "outputs": [
    {
     "name": "stdout",
     "output_type": "stream",
     "text": [
      "\u001b[31mtensorflow-serving-api 1.14.0 has requirement tensorflow~=1.14.0, but you'll have tensorflow 2.0.0b1 which is incompatible.\u001b[0m\n",
      "\u001b[33mYou are using pip version 10.0.1, however version 19.3.1 is available.\n",
      "You should consider upgrading via the 'pip install --upgrade pip' command.\u001b[0m\n"
     ]
    }
   ],
   "source": [
    "!pip install -q statsmodels==0.9.0"
   ]
  },
  {
   "cell_type": "code",
   "execution_count": 3,
   "metadata": {
    "collapsed": false
   },
   "outputs": [
    {
     "name": "stdout",
     "output_type": "stream",
     "text": [
      "\u001b[31mtensorflow-serving-api 1.14.0 has requirement tensorflow~=1.14.0, but you'll have tensorflow 2.0.0b1 which is incompatible.\u001b[0m\n",
      "\u001b[33mYou are using pip version 10.0.1, however version 19.3.1 is available.\n",
      "You should consider upgrading via the 'pip install --upgrade pip' command.\u001b[0m\n"
     ]
    }
   ],
   "source": [
    "!pip install -q scipy==1.2"
   ]
  },
  {
   "cell_type": "code",
   "execution_count": 4,
   "metadata": {
    "collapsed": false
   },
   "outputs": [
    {
     "name": "stdout",
     "output_type": "stream",
     "text": [
      "\u001b[31mtensorflow-serving-api 1.14.0 has requirement tensorflow~=1.14.0, but you'll have tensorflow 2.0.0b1 which is incompatible.\u001b[0m\n",
      "\u001b[33mYou are using pip version 10.0.1, however version 19.3.1 is available.\n",
      "You should consider upgrading via the 'pip install --upgrade pip' command.\u001b[0m\n"
     ]
    }
   ],
   "source": [
    "!pip install -q pyramid.arima"
   ]
  },
  {
   "cell_type": "code",
   "execution_count": 5,
   "metadata": {
    "collapsed": true
   },
   "outputs": [],
   "source": [
    "import os\n",
    "import csv\n",
    "import random\n",
    "import statsmodels.api as sm\n",
    "import statsmodels.formula.api as smf\n",
    "import numpy as np\n",
    "import pandas as pd\n",
    "from sklearn.model_selection import train_test_split\n",
    "from sklearn.linear_model import LogisticRegression\n",
    "from sklearn.ensemble import ExtraTreesClassifier\n",
    "from sklearn.preprocessing import MinMaxScaler"
   ]
  },
  {
   "cell_type": "code",
   "execution_count": 6,
   "metadata": {
    "collapsed": true
   },
   "outputs": [],
   "source": [
    "import boto3 \n",
    "import botocore \n",
    "import pandas as pd \n",
    "from sagemaker import get_execution_role \n",
    "\n",
    "role = get_execution_role() \n",
    "\n",
    "bucket = 'enter_bucket' \n",
    "data_key = 'enter_data_key'\n",
    "data_location = 's3://{}/{}'.format(bucket, data_key) \n",
    "\n",
    "df = pd.read_csv(data_location)"
   ]
  },
  {
   "cell_type": "code",
   "execution_count": 7,
   "metadata": {
    "collapsed": true
   },
   "outputs": [],
   "source": [
    "from pandas import DataFrame"
   ]
  },
  {
   "cell_type": "code",
   "execution_count": 8,
   "metadata": {
    "collapsed": false
   },
   "outputs": [
    {
     "data": {
      "text/plain": [
       "0       18.63\n",
       "1       18.45\n",
       "2       18.55\n",
       "3       18.60\n",
       "4       18.63\n",
       "5       18.60\n",
       "6       18.60\n",
       "7       18.58\n",
       "8       18.65\n",
       "9       18.68\n",
       "10      18.75\n",
       "11      18.78\n",
       "12      18.65\n",
       "13      18.75\n",
       "14      18.78\n",
       "15      18.78\n",
       "16      18.68\n",
       "17      18.78\n",
       "18      18.90\n",
       "19      19.03\n",
       "20      19.05\n",
       "21      19.05\n",
       "22      19.10\n",
       "23      18.90\n",
       "24      18.75\n",
       "25      18.70\n",
       "26      19.08\n",
       "27      19.15\n",
       "28      19.08\n",
       "29      18.98\n",
       "        ...  \n",
       "8186    59.03\n",
       "8187    60.60\n",
       "8188    59.81\n",
       "8189    58.64\n",
       "8190    58.64\n",
       "8191    58.44\n",
       "8192    60.42\n",
       "8193    60.59\n",
       "8194    61.04\n",
       "8195    58.55\n",
       "8196    57.93\n",
       "8197    60.68\n",
       "8198    62.70\n",
       "8199    61.28\n",
       "8200    63.99\n",
       "8201    64.67\n",
       "8202    63.02\n",
       "8203    60.76\n",
       "8204    61.25\n",
       "8205    68.42\n",
       "8206    65.59\n",
       "8207    64.29\n",
       "8208    64.25\n",
       "8209    65.23\n",
       "8210    64.66\n",
       "8211    64.13\n",
       "8212    62.41\n",
       "8213    62.08\n",
       "8214    62.48\n",
       "8215    60.99\n",
       "Name: Price, Length: 8216, dtype: float64"
      ]
     },
     "execution_count": 8,
     "metadata": {},
     "output_type": "execute_result"
    }
   ],
   "source": [
    "tseries=df['Price']\n",
    "tseries"
   ]
  },
  {
   "cell_type": "code",
   "execution_count": 9,
   "metadata": {
    "collapsed": true
   },
   "outputs": [],
   "source": [
    "tseries = tseries[:7716]"
   ]
  },
  {
   "cell_type": "code",
   "execution_count": 10,
   "metadata": {
    "collapsed": false
   },
   "outputs": [
    {
     "name": "stdout",
     "output_type": "stream",
     "text": [
      "ADF Statistic: -1.862846\n",
      "p-value: 0.349736\n",
      "Critical Values:\n",
      "\t1%: -3.431\n",
      "\t5%: -2.862\n",
      "\t10%: -2.567\n"
     ]
    }
   ],
   "source": [
    "from statsmodels.tsa.stattools import adfuller\n",
    "result = adfuller(tseries)\n",
    "print('ADF Statistic: %f' % result[0])\n",
    "print('p-value: %f' % result[1])\n",
    "print('Critical Values:')\n",
    "for key, value in result[4].items():\n",
    "    print('\\t%s: %.3f' % (key, value))"
   ]
  },
  {
   "cell_type": "code",
   "execution_count": 11,
   "metadata": {
    "collapsed": true
   },
   "outputs": [],
   "source": [
    "tsdiff=np.log(tseries)"
   ]
  },
  {
   "cell_type": "code",
   "execution_count": 12,
   "metadata": {
    "collapsed": false
   },
   "outputs": [
    {
     "name": "stdout",
     "output_type": "stream",
     "text": [
      "ADF Statistic: -1.570385\n",
      "p-value: 0.498451\n",
      "Critical Values:\n",
      "\t1%: -3.431\n",
      "\t5%: -2.862\n",
      "\t10%: -2.567\n"
     ]
    }
   ],
   "source": [
    "result = adfuller(tsdiff)\n",
    "print('ADF Statistic: %f' % result[0])\n",
    "print('p-value: %f' % result[1])\n",
    "print('Critical Values:')\n",
    "for key, value in result[4].items():\n",
    "    print('\\t%s: %.3f' % (key, value))"
   ]
  },
  {
   "cell_type": "code",
   "execution_count": 13,
   "metadata": {
    "collapsed": false
   },
   "outputs": [
    {
     "data": {
      "image/png": "[encoded data removed]",
      "text/plain": [
       "<Figure size 432x288 with 1 Axes>"
      ]
     },
     "metadata": {},
     "output_type": "display_data"
    }
   ],
   "source": [
    "import matplotlib.pyplot as plt\n",
    "plt.plot(tsdiff)\n",
    "plt.tick_params(\n",
    "    axis='x',          # changes apply to the x-axis\n",
    "    which='both',      # both major and minor ticks are affected\n",
    "    bottom=False,      # ticks along the bottom edge are off\n",
    "    top=False,         # ticks along the top edge are off\n",
    "    labelbottom=False) # labels along the bottom edge are off\n",
    "plt.ylabel('Price')\n",
    "plt.title(\"Oil Prices\")\n",
    "plt.show()"
   ]
  },
  {
   "cell_type": "code",
   "execution_count": 14,
   "metadata": {
    "collapsed": false
   },
   "outputs": [
    {
     "data": {
      "text/html": [
       "<div>\n",
       "<style scoped>\n",
       "    .dataframe tbody tr th:only-of-type {\n",
       "        vertical-align: middle;\n",
       "    }\n",
       "\n",
       "    .dataframe tbody tr th {\n",
       "        vertical-align: top;\n",
       "    }\n",
       "\n",
       "    .dataframe thead th {\n",
       "        text-align: right;\n",
       "    }\n",
       "</style>\n",
       "<table border=\"1\" class=\"dataframe\">\n",
       "  <thead>\n",
       "    <tr style=\"text-align: right;\">\n",
       "      <th></th>\n",
       "      <th>Price</th>\n",
       "    </tr>\n",
       "  </thead>\n",
       "  <tbody>\n",
       "    <tr>\n",
       "      <th>0</th>\n",
       "      <td>2.924773</td>\n",
       "    </tr>\n",
       "    <tr>\n",
       "      <th>1</th>\n",
       "      <td>2.915064</td>\n",
       "    </tr>\n",
       "    <tr>\n",
       "      <th>2</th>\n",
       "      <td>2.920470</td>\n",
       "    </tr>\n",
       "    <tr>\n",
       "      <th>3</th>\n",
       "      <td>2.923162</td>\n",
       "    </tr>\n",
       "    <tr>\n",
       "      <th>4</th>\n",
       "      <td>2.924773</td>\n",
       "    </tr>\n",
       "    <tr>\n",
       "      <th>5</th>\n",
       "      <td>2.923162</td>\n",
       "    </tr>\n",
       "    <tr>\n",
       "      <th>6</th>\n",
       "      <td>2.923162</td>\n",
       "    </tr>\n",
       "    <tr>\n",
       "      <th>7</th>\n",
       "      <td>2.922086</td>\n",
       "    </tr>\n",
       "    <tr>\n",
       "      <th>8</th>\n",
       "      <td>2.925846</td>\n",
       "    </tr>\n",
       "    <tr>\n",
       "      <th>9</th>\n",
       "      <td>2.927453</td>\n",
       "    </tr>\n",
       "    <tr>\n",
       "      <th>10</th>\n",
       "      <td>2.931194</td>\n",
       "    </tr>\n",
       "    <tr>\n",
       "      <th>11</th>\n",
       "      <td>2.932792</td>\n",
       "    </tr>\n",
       "    <tr>\n",
       "      <th>12</th>\n",
       "      <td>2.925846</td>\n",
       "    </tr>\n",
       "    <tr>\n",
       "      <th>13</th>\n",
       "      <td>2.931194</td>\n",
       "    </tr>\n",
       "    <tr>\n",
       "      <th>14</th>\n",
       "      <td>2.932792</td>\n",
       "    </tr>\n",
       "    <tr>\n",
       "      <th>15</th>\n",
       "      <td>2.932792</td>\n",
       "    </tr>\n",
       "    <tr>\n",
       "      <th>16</th>\n",
       "      <td>2.927453</td>\n",
       "    </tr>\n",
       "    <tr>\n",
       "      <th>17</th>\n",
       "      <td>2.932792</td>\n",
       "    </tr>\n",
       "    <tr>\n",
       "      <th>18</th>\n",
       "      <td>2.939162</td>\n",
       "    </tr>\n",
       "    <tr>\n",
       "      <th>19</th>\n",
       "      <td>2.946017</td>\n",
       "    </tr>\n",
       "    <tr>\n",
       "      <th>20</th>\n",
       "      <td>2.947067</td>\n",
       "    </tr>\n",
       "    <tr>\n",
       "      <th>21</th>\n",
       "      <td>2.947067</td>\n",
       "    </tr>\n",
       "    <tr>\n",
       "      <th>22</th>\n",
       "      <td>2.949688</td>\n",
       "    </tr>\n",
       "    <tr>\n",
       "      <th>23</th>\n",
       "      <td>2.939162</td>\n",
       "    </tr>\n",
       "    <tr>\n",
       "      <th>24</th>\n",
       "      <td>2.931194</td>\n",
       "    </tr>\n",
       "    <tr>\n",
       "      <th>25</th>\n",
       "      <td>2.928524</td>\n",
       "    </tr>\n",
       "    <tr>\n",
       "      <th>26</th>\n",
       "      <td>2.948641</td>\n",
       "    </tr>\n",
       "    <tr>\n",
       "      <th>27</th>\n",
       "      <td>2.952303</td>\n",
       "    </tr>\n",
       "    <tr>\n",
       "      <th>28</th>\n",
       "      <td>2.948641</td>\n",
       "    </tr>\n",
       "    <tr>\n",
       "      <th>29</th>\n",
       "      <td>2.943386</td>\n",
       "    </tr>\n",
       "    <tr>\n",
       "      <th>...</th>\n",
       "      <td>...</td>\n",
       "    </tr>\n",
       "    <tr>\n",
       "      <th>7686</th>\n",
       "      <td>3.949511</td>\n",
       "    </tr>\n",
       "    <tr>\n",
       "      <th>7687</th>\n",
       "      <td>3.964426</td>\n",
       "    </tr>\n",
       "    <tr>\n",
       "      <th>7688</th>\n",
       "      <td>3.973118</td>\n",
       "    </tr>\n",
       "    <tr>\n",
       "      <th>7689</th>\n",
       "      <td>3.962716</td>\n",
       "    </tr>\n",
       "    <tr>\n",
       "      <th>7690</th>\n",
       "      <td>3.982109</td>\n",
       "    </tr>\n",
       "    <tr>\n",
       "      <th>7691</th>\n",
       "      <td>3.997834</td>\n",
       "    </tr>\n",
       "    <tr>\n",
       "      <th>7692</th>\n",
       "      <td>3.991943</td>\n",
       "    </tr>\n",
       "    <tr>\n",
       "      <th>7693</th>\n",
       "      <td>3.999118</td>\n",
       "    </tr>\n",
       "    <tr>\n",
       "      <th>7694</th>\n",
       "      <td>3.992681</td>\n",
       "    </tr>\n",
       "    <tr>\n",
       "      <th>7695</th>\n",
       "      <td>4.008423</td>\n",
       "    </tr>\n",
       "    <tr>\n",
       "      <th>7696</th>\n",
       "      <td>4.016743</td>\n",
       "    </tr>\n",
       "    <tr>\n",
       "      <th>7697</th>\n",
       "      <td>4.038832</td>\n",
       "    </tr>\n",
       "    <tr>\n",
       "      <th>7698</th>\n",
       "      <td>4.028561</td>\n",
       "    </tr>\n",
       "    <tr>\n",
       "      <th>7699</th>\n",
       "      <td>4.016383</td>\n",
       "    </tr>\n",
       "    <tr>\n",
       "      <th>7700</th>\n",
       "      <td>4.035656</td>\n",
       "    </tr>\n",
       "    <tr>\n",
       "      <th>7701</th>\n",
       "      <td>4.046554</td>\n",
       "    </tr>\n",
       "    <tr>\n",
       "      <th>7702</th>\n",
       "      <td>4.055777</td>\n",
       "    </tr>\n",
       "    <tr>\n",
       "      <th>7703</th>\n",
       "      <td>4.063198</td>\n",
       "    </tr>\n",
       "    <tr>\n",
       "      <th>7704</th>\n",
       "      <td>4.084631</td>\n",
       "    </tr>\n",
       "    <tr>\n",
       "      <th>7705</th>\n",
       "      <td>4.090504</td>\n",
       "    </tr>\n",
       "    <tr>\n",
       "      <th>7706</th>\n",
       "      <td>4.073121</td>\n",
       "    </tr>\n",
       "    <tr>\n",
       "      <th>7707</th>\n",
       "      <td>4.074142</td>\n",
       "    </tr>\n",
       "    <tr>\n",
       "      <th>7708</th>\n",
       "      <td>4.043402</td>\n",
       "    </tr>\n",
       "    <tr>\n",
       "      <th>7709</th>\n",
       "      <td>4.019441</td>\n",
       "    </tr>\n",
       "    <tr>\n",
       "      <th>7710</th>\n",
       "      <td>4.027492</td>\n",
       "    </tr>\n",
       "    <tr>\n",
       "      <th>7711</th>\n",
       "      <td>4.025352</td>\n",
       "    </tr>\n",
       "    <tr>\n",
       "      <th>7712</th>\n",
       "      <td>4.044629</td>\n",
       "    </tr>\n",
       "    <tr>\n",
       "      <th>7713</th>\n",
       "      <td>4.016383</td>\n",
       "    </tr>\n",
       "    <tr>\n",
       "      <th>7714</th>\n",
       "      <td>4.012592</td>\n",
       "    </tr>\n",
       "    <tr>\n",
       "      <th>7715</th>\n",
       "      <td>4.036362</td>\n",
       "    </tr>\n",
       "  </tbody>\n",
       "</table>\n",
       "<p>7716 rows × 1 columns</p>\n",
       "</div>"
      ],
      "text/plain": [
       "         Price\n",
       "0     2.924773\n",
       "1     2.915064\n",
       "2     2.920470\n",
       "3     2.923162\n",
       "4     2.924773\n",
       "5     2.923162\n",
       "6     2.923162\n",
       "7     2.922086\n",
       "8     2.925846\n",
       "9     2.927453\n",
       "10    2.931194\n",
       "11    2.932792\n",
       "12    2.925846\n",
       "13    2.931194\n",
       "14    2.932792\n",
       "15    2.932792\n",
       "16    2.927453\n",
       "17    2.932792\n",
       "18    2.939162\n",
       "19    2.946017\n",
       "20    2.947067\n",
       "21    2.947067\n",
       "22    2.949688\n",
       "23    2.939162\n",
       "24    2.931194\n",
       "25    2.928524\n",
       "26    2.948641\n",
       "27    2.952303\n",
       "28    2.948641\n",
       "29    2.943386\n",
       "...        ...\n",
       "7686  3.949511\n",
       "7687  3.964426\n",
       "7688  3.973118\n",
       "7689  3.962716\n",
       "7690  3.982109\n",
       "7691  3.997834\n",
       "7692  3.991943\n",
       "7693  3.999118\n",
       "7694  3.992681\n",
       "7695  4.008423\n",
       "7696  4.016743\n",
       "7697  4.038832\n",
       "7698  4.028561\n",
       "7699  4.016383\n",
       "7700  4.035656\n",
       "7701  4.046554\n",
       "7702  4.055777\n",
       "7703  4.063198\n",
       "7704  4.084631\n",
       "7705  4.090504\n",
       "7706  4.073121\n",
       "7707  4.074142\n",
       "7708  4.043402\n",
       "7709  4.019441\n",
       "7710  4.027492\n",
       "7711  4.025352\n",
       "7712  4.044629\n",
       "7713  4.016383\n",
       "7714  4.012592\n",
       "7715  4.036362\n",
       "\n",
       "[7716 rows x 1 columns]"
      ]
     },
     "execution_count": 14,
     "metadata": {},
     "output_type": "execute_result"
    }
   ],
   "source": [
    "df=pd.DataFrame(tsdiff)\n",
    "df"
   ]
  },
  {
   "cell_type": "code",
   "execution_count": 15,
   "metadata": {
    "collapsed": true
   },
   "outputs": [],
   "source": [
    "# Form dataset matrix\n",
    "def create_dataset(df, previous=1):\n",
    "    dataX, dataY = [], []\n",
    "    for i in range(len(df)-previous-1):\n",
    "        a = df[i:(i+previous), 0]\n",
    "        dataX.append(a)\n",
    "        dataY.append(df[i + previous, 0])\n",
    "    return np.array(dataX), np.array(dataY)"
   ]
  },
  {
   "cell_type": "code",
   "execution_count": 16,
   "metadata": {
    "collapsed": true
   },
   "outputs": [],
   "source": [
    "df=np.array(df)"
   ]
  },
  {
   "cell_type": "code",
   "execution_count": 17,
   "metadata": {
    "collapsed": false
   },
   "outputs": [
    {
     "data": {
      "text/plain": [
       "array([[2.92477318],\n",
       "       [2.91506437],\n",
       "       [2.92046979],\n",
       "       ...,\n",
       "       [4.01638302],\n",
       "       [4.01259206],\n",
       "       [4.03636228]])"
      ]
     },
     "execution_count": 17,
     "metadata": {},
     "output_type": "execute_result"
    }
   ],
   "source": [
    "df"
   ]
  },
  {
   "cell_type": "code",
   "execution_count": 18,
   "metadata": {
    "collapsed": false
   },
   "outputs": [
    {
     "data": {
      "text/plain": [
       "array([[0.25948897],\n",
       "       [0.2559728 ],\n",
       "       [0.25793044],\n",
       "       ...,\n",
       "       [0.6548291 ],\n",
       "       [0.65345615],\n",
       "       [0.66206484]])"
      ]
     },
     "execution_count": 18,
     "metadata": {},
     "output_type": "execute_result"
    }
   ],
   "source": [
    "# normalize dataset with MinMaxScaler\n",
    "scaler = MinMaxScaler(feature_range=(0, 1))\n",
    "df = scaler.fit_transform(df)\n",
    "df"
   ]
  },
  {
   "cell_type": "code",
   "execution_count": 19,
   "metadata": {
    "collapsed": true
   },
   "outputs": [],
   "source": [
    "import tensorflow as tf\n",
    "from tensorflow.keras import layers\n",
    "from tensorflow.keras.layers import Dense\n",
    "from tensorflow.keras.layers import LSTM\n",
    "\n",
    "# Training and Validation data partition\n",
    "train_size = int(len(df) * 0.8)\n",
    "val_size = len(df) - train_size\n",
    "train, val = df[0:train_size,:], df[train_size:len(df),:]\n",
    "\n",
    "# Number of previous\n",
    "previous = 10\n",
    "X_train, Y_train = create_dataset(train, previous)\n",
    "X_val, Y_val = create_dataset(val, previous)"
   ]
  },
  {
   "cell_type": "code",
   "execution_count": 20,
   "metadata": {
    "collapsed": false
   },
   "outputs": [
    {
     "data": {
      "text/plain": [
       "array([[0.25948897, 0.2559728 , 0.25793044, ..., 0.25851568, 0.25987756,\n",
       "        0.26045966],\n",
       "       [0.2559728 , 0.25793044, 0.25890531, ..., 0.25987756, 0.26045966,\n",
       "        0.26181426],\n",
       "       [0.25793044, 0.25890531, 0.25948897, ..., 0.26045966, 0.26181426,\n",
       "        0.26239326],\n",
       "       ...,\n",
       "       [0.9070662 , 0.89714332, 0.90050332, ..., 0.91004565, 0.92053555,\n",
       "        0.92331339],\n",
       "       [0.89714332, 0.90050332, 0.89871076, ..., 0.92053555, 0.92331339,\n",
       "        0.92315789],\n",
       "       [0.90050332, 0.89871076, 0.903734  , ..., 0.92331339, 0.92315789,\n",
       "        0.92156802]])"
      ]
     },
     "execution_count": 20,
     "metadata": {},
     "output_type": "execute_result"
    }
   ],
   "source": [
    "X_train"
   ]
  },
  {
   "cell_type": "code",
   "execution_count": 21,
   "metadata": {
    "collapsed": false
   },
   "outputs": [
    {
     "data": {
      "text/plain": [
       "array([0.26181426, 0.26239326, 0.25987756, ..., 0.92315789, 0.92156802,\n",
       "       0.91325661])"
      ]
     },
     "execution_count": 21,
     "metadata": {},
     "output_type": "execute_result"
    }
   ],
   "source": [
    "Y_train"
   ]
  },
  {
   "cell_type": "code",
   "execution_count": 22,
   "metadata": {
    "collapsed": false
   },
   "outputs": [
    {
     "name": "stdout",
     "output_type": "stream",
     "text": [
      "WARNING:tensorflow:Entity <function standard_lstm at 0x7f1c82807a60> could not be transformed and will be executed as-is. Please report this to the AutoGraph team. When filing the bug, set the verbosity to 10 (on Linux, `export AUTOGRAPH_VERBOSITY=10`) and attach the full output. Cause: converting <function standard_lstm at 0x7f1c82807a60>: AttributeError: module 'gast' has no attribute 'Num'\n",
      "WARNING: Entity <function standard_lstm at 0x7f1c82807a60> could not be transformed and will be executed as-is. Please report this to the AutoGraph team. When filing the bug, set the verbosity to 10 (on Linux, `export AUTOGRAPH_VERBOSITY=10`) and attach the full output. Cause: converting <function standard_lstm at 0x7f1c82807a60>: AttributeError: module 'gast' has no attribute 'Num'\n",
      "WARNING:tensorflow:Entity <function cudnn_lstm at 0x7f1c82807ae8> could not be transformed and will be executed as-is. Please report this to the AutoGraph team. When filing the bug, set the verbosity to 10 (on Linux, `export AUTOGRAPH_VERBOSITY=10`) and attach the full output. Cause: converting <function cudnn_lstm at 0x7f1c82807ae8>: AttributeError: module 'gast' has no attribute 'Num'\n",
      "WARNING: Entity <function cudnn_lstm at 0x7f1c82807ae8> could not be transformed and will be executed as-is. Please report this to the AutoGraph team. When filing the bug, set the verbosity to 10 (on Linux, `export AUTOGRAPH_VERBOSITY=10`) and attach the full output. Cause: converting <function cudnn_lstm at 0x7f1c82807ae8>: AttributeError: module 'gast' has no attribute 'Num'\n",
      "Train on 4928 samples, validate on 1233 samples\n",
      "Epoch 1/60\n",
      "4928/4928 - 9s - loss: 0.0037 - val_loss: 0.0013\n",
      "Epoch 2/60\n",
      "4928/4928 - 8s - loss: 7.3354e-04 - val_loss: 0.0024\n",
      "Epoch 3/60\n",
      "4928/4928 - 8s - loss: 5.8314e-04 - val_loss: 0.0024\n",
      "Epoch 4/60\n",
      "4928/4928 - 8s - loss: 5.7166e-04 - val_loss: 5.5062e-04\n",
      "Epoch 5/60\n",
      "4928/4928 - 8s - loss: 4.9309e-04 - val_loss: 0.0027\n",
      "Epoch 6/60\n",
      "4928/4928 - 8s - loss: 4.7229e-04 - val_loss: 6.7254e-04\n",
      "Epoch 7/60\n",
      "4928/4928 - 8s - loss: 4.8205e-04 - val_loss: 0.0023\n",
      "Epoch 8/60\n",
      "4928/4928 - 8s - loss: 4.8510e-04 - val_loss: 8.8350e-04\n",
      "Epoch 9/60\n",
      "4928/4928 - 8s - loss: 5.0170e-04 - val_loss: 8.5736e-04\n",
      "Epoch 10/60\n",
      "4928/4928 - 8s - loss: 4.5332e-04 - val_loss: 4.0680e-04\n",
      "Epoch 11/60\n",
      "4928/4928 - 8s - loss: 4.8735e-04 - val_loss: 9.7858e-04\n",
      "Epoch 12/60\n",
      "4928/4928 - 8s - loss: 4.5997e-04 - val_loss: 4.4442e-04\n",
      "Epoch 13/60\n",
      "4928/4928 - 8s - loss: 4.9402e-04 - val_loss: 0.0013\n",
      "Epoch 14/60\n",
      "4928/4928 - 8s - loss: 4.8259e-04 - val_loss: 0.0026\n",
      "Epoch 15/60\n",
      "4928/4928 - 8s - loss: 5.4284e-04 - val_loss: 5.6974e-04\n",
      "Epoch 16/60\n",
      "4928/4928 - 8s - loss: 4.7564e-04 - val_loss: 0.0020\n",
      "Epoch 17/60\n",
      "4928/4928 - 8s - loss: 4.3616e-04 - val_loss: 3.2926e-04\n",
      "Epoch 18/60\n",
      "4928/4928 - 8s - loss: 4.7640e-04 - val_loss: 9.4961e-04\n",
      "Epoch 19/60\n",
      "4928/4928 - 8s - loss: 4.4955e-04 - val_loss: 0.0018\n",
      "Epoch 20/60\n",
      "4928/4928 - 8s - loss: 4.9080e-04 - val_loss: 5.9206e-04\n",
      "Epoch 21/60\n",
      "4928/4928 - 8s - loss: 4.4014e-04 - val_loss: 0.0022\n",
      "Epoch 22/60\n",
      "4928/4928 - 8s - loss: 4.8395e-04 - val_loss: 0.0013\n",
      "Epoch 23/60\n",
      "4928/4928 - 8s - loss: 4.7984e-04 - val_loss: 4.4639e-04\n",
      "Epoch 24/60\n",
      "4928/4928 - 8s - loss: 4.9051e-04 - val_loss: 6.0256e-04\n",
      "Epoch 25/60\n",
      "4928/4928 - 8s - loss: 4.3928e-04 - val_loss: 0.0010\n",
      "Epoch 26/60\n",
      "4928/4928 - 8s - loss: 5.1407e-04 - val_loss: 0.0013\n",
      "Epoch 27/60\n",
      "4928/4928 - 8s - loss: 4.8862e-04 - val_loss: 7.1421e-04\n",
      "Epoch 28/60\n",
      "4928/4928 - 8s - loss: 4.7811e-04 - val_loss: 0.0011\n",
      "Epoch 29/60\n",
      "4928/4928 - 8s - loss: 4.2796e-04 - val_loss: 0.0026\n",
      "Epoch 30/60\n",
      "4928/4928 - 8s - loss: 4.5702e-04 - val_loss: 0.0017\n",
      "Epoch 31/60\n",
      "4928/4928 - 8s - loss: 4.7072e-04 - val_loss: 6.9879e-04\n",
      "Epoch 32/60\n",
      "4928/4928 - 8s - loss: 5.1407e-04 - val_loss: 0.0029\n",
      "Epoch 33/60\n",
      "4928/4928 - 8s - loss: 4.8493e-04 - val_loss: 5.4813e-04\n",
      "Epoch 34/60\n",
      "4928/4928 - 8s - loss: 4.2824e-04 - val_loss: 4.7075e-04\n",
      "Epoch 35/60\n",
      "4928/4928 - 8s - loss: 4.4383e-04 - val_loss: 0.0015\n",
      "Epoch 36/60\n",
      "4928/4928 - 8s - loss: 4.7919e-04 - val_loss: 6.3579e-04\n",
      "Epoch 37/60\n",
      "4928/4928 - 8s - loss: 4.5034e-04 - val_loss: 7.2747e-04\n",
      "Epoch 38/60\n",
      "4928/4928 - 8s - loss: 4.4070e-04 - val_loss: 0.0021\n",
      "Epoch 39/60\n",
      "4928/4928 - 8s - loss: 4.6865e-04 - val_loss: 0.0027\n",
      "Epoch 40/60\n",
      "4928/4928 - 8s - loss: 4.1712e-04 - val_loss: 0.0029\n",
      "Epoch 41/60\n",
      "4928/4928 - 8s - loss: 4.2351e-04 - val_loss: 7.4817e-04\n",
      "Epoch 42/60\n",
      "4928/4928 - 8s - loss: 4.8098e-04 - val_loss: 6.7451e-04\n",
      "Epoch 43/60\n",
      "4928/4928 - 8s - loss: 4.8226e-04 - val_loss: 0.0024\n",
      "Epoch 44/60\n",
      "4928/4928 - 8s - loss: 4.5184e-04 - val_loss: 0.0041\n",
      "Epoch 45/60\n",
      "4928/4928 - 8s - loss: 4.6087e-04 - val_loss: 0.0033\n",
      "Epoch 46/60\n",
      "4928/4928 - 8s - loss: 4.3400e-04 - val_loss: 0.0022\n",
      "Epoch 47/60\n",
      "4928/4928 - 8s - loss: 4.8855e-04 - val_loss: 0.0028\n",
      "Epoch 48/60\n",
      "4928/4928 - 8s - loss: 4.6425e-04 - val_loss: 0.0026\n",
      "Epoch 49/60\n",
      "4928/4928 - 8s - loss: 4.7815e-04 - val_loss: 0.0025\n",
      "Epoch 50/60\n",
      "4928/4928 - 8s - loss: 4.8912e-04 - val_loss: 0.0031\n",
      "Epoch 51/60\n",
      "4928/4928 - 8s - loss: 4.7855e-04 - val_loss: 0.0029\n",
      "Epoch 52/60\n",
      "4928/4928 - 8s - loss: 4.9670e-04 - val_loss: 0.0015\n",
      "Epoch 53/60\n",
      "4928/4928 - 8s - loss: 4.2491e-04 - val_loss: 0.0026\n",
      "Epoch 54/60\n",
      "4928/4928 - 8s - loss: 4.1910e-04 - val_loss: 0.0023\n",
      "Epoch 55/60\n",
      "4928/4928 - 8s - loss: 4.5464e-04 - val_loss: 0.0029\n",
      "Epoch 56/60\n",
      "4928/4928 - 8s - loss: 4.1192e-04 - val_loss: 5.0388e-04\n",
      "Epoch 57/60\n",
      "4928/4928 - 8s - loss: 4.7427e-04 - val_loss: 0.0018\n",
      "Epoch 58/60\n",
      "4928/4928 - 8s - loss: 4.2951e-04 - val_loss: 0.0014\n",
      "Epoch 59/60\n",
      "4928/4928 - 8s - loss: 4.3512e-04 - val_loss: 0.0014\n",
      "Epoch 60/60\n",
      "4928/4928 - 8s - loss: 5.1278e-04 - val_loss: 0.0019\n",
      "dict_keys(['loss', 'val_loss'])\n"
     ]
    },
    {
     "data": {
      "image/png": "[encoded data removed]",
      "text/plain": [
       "<Figure size 432x288 with 1 Axes>"
      ]
     },
     "metadata": {},
     "output_type": "display_data"
    }
   ],
   "source": [
    "from tensorflow.keras.layers import Dropout\n",
    "\n",
    "# reshape input to be [samples, time steps, features]\n",
    "X_train = np.reshape(X_train, (X_train.shape[0], 1, X_train.shape[1]))\n",
    "X_val = np.reshape(X_val, (X_val.shape[0], 1, X_val.shape[1]))\n",
    "\n",
    "# Generate LSTM network\n",
    "model = tf.keras.Sequential()\n",
    "model.add(LSTM(4, input_shape=(1, previous)))\n",
    "model.add(Dropout(0.05))\n",
    "model.add(Dense(1))\n",
    "model.compile(loss='mean_squared_error', optimizer='adam')\n",
    "history=model.fit(X_train, Y_train, validation_split=0.2, epochs=60, batch_size=1, verbose=2)\n",
    "\n",
    "# list all data in history\n",
    "print(history.history.keys())\n",
    "# summarize history for accuracy\n",
    "plt.plot(history.history['loss'])\n",
    "plt.plot(history.history['val_loss'])\n",
    "plt.title('model loss')\n",
    "plt.ylabel('loss')\n",
    "plt.xlabel('epoch')\n",
    "plt.legend(['train', 'val'], loc='upper left')\n",
    "plt.show()"
   ]
  },
  {
   "cell_type": "code",
   "execution_count": 23,
   "metadata": {
    "collapsed": true
   },
   "outputs": [],
   "source": [
    "# Generate predictions\n",
    "trainpred = model.predict(X_train)\n",
    "valpred = model.predict(X_val)"
   ]
  },
  {
   "cell_type": "code",
   "execution_count": 24,
   "metadata": {
    "collapsed": false
   },
   "outputs": [
    {
     "data": {
      "text/plain": [
       "array([[0.2615492 ],\n",
       "       [0.2628366 ],\n",
       "       [0.26350605],\n",
       "       ...,\n",
       "       [0.8504038 ],\n",
       "       [0.8493109 ],\n",
       "       [0.84828675]], dtype=float32)"
      ]
     },
     "execution_count": 24,
     "metadata": {},
     "output_type": "execute_result"
    }
   ],
   "source": [
    "trainpred"
   ]
  },
  {
   "cell_type": "code",
   "execution_count": 25,
   "metadata": {
    "collapsed": false
   },
   "outputs": [
    {
     "data": {
      "text/plain": [
       "array([[0.8470993 ],\n",
       "       [0.83846486],\n",
       "       [0.83531535],\n",
       "       ...,\n",
       "       [0.6502234 ],\n",
       "       [0.65554166],\n",
       "       [0.6495342 ]], dtype=float32)"
      ]
     },
     "execution_count": 25,
     "metadata": {},
     "output_type": "execute_result"
    }
   ],
   "source": [
    "valpred"
   ]
  },
  {
   "cell_type": "code",
   "execution_count": 26,
   "metadata": {
    "collapsed": true
   },
   "outputs": [],
   "source": [
    "# Convert predictions back to normal values\n",
    "trainpred = scaler.inverse_transform(trainpred)\n",
    "Y_train = scaler.inverse_transform([Y_train])\n",
    "valpred = scaler.inverse_transform(valpred)\n",
    "Y_val = scaler.inverse_transform([Y_val])\n",
    "predictions = valpred"
   ]
  },
  {
   "cell_type": "code",
   "execution_count": 27,
   "metadata": {
    "collapsed": false
   },
   "outputs": [
    {
     "name": "stdout",
     "output_type": "stream",
     "text": [
      "Train Score: 0.06 RMSE\n",
      "Validation Score: 0.13 RMSE\n"
     ]
    }
   ],
   "source": [
    "import math\n",
    "from sklearn.metrics import mean_squared_error\n",
    "\n",
    "# calculate RMSE\n",
    "trainScore = math.sqrt(mean_squared_error(Y_train[0], trainpred[:,0]))\n",
    "print('Train Score: %.2f RMSE' % (trainScore))\n",
    "valScore = math.sqrt(mean_squared_error(Y_val[0], valpred[:,0]))\n",
    "print('Validation Score: %.2f RMSE' % (valScore))"
   ]
  },
  {
   "cell_type": "code",
   "execution_count": 28,
   "metadata": {
    "collapsed": true
   },
   "outputs": [],
   "source": [
    "# Train predictions\n",
    "trainpredPlot = np.empty_like(df)\n",
    "trainpredPlot[:, :] = np.nan\n",
    "trainpredPlot[previous:len(trainpred)+previous, :] = trainpred"
   ]
  },
  {
   "cell_type": "code",
   "execution_count": 29,
   "metadata": {
    "collapsed": true
   },
   "outputs": [],
   "source": [
    "# Validation predictions\n",
    "valpredPlot = np.empty_like(df)\n",
    "valpredPlot[:, :] = np.nan\n",
    "valpredPlot[len(trainpred)+(previous*2)+1:len(df)-1, :] = valpred"
   ]
  },
  {
   "cell_type": "code",
   "execution_count": 30,
   "metadata": {
    "collapsed": false
   },
   "outputs": [
    {
     "data": {
      "image/png": "[encoded data removed]",
      "text/plain": [
       "<Figure size 432x288 with 1 Axes>"
      ]
     },
     "metadata": {},
     "output_type": "display_data"
    }
   ],
   "source": [
    "# Plot all predictions\n",
    "inversetransform, =plt.plot(scaler.inverse_transform(df))\n",
    "trainpred, =plt.plot(trainpredPlot)\n",
    "valpred, =plt.plot(valpredPlot)\n",
    "plt.xlabel('Number of weeks')\n",
    "plt.ylabel('Cancellations')\n",
    "plt.title(\"Predicted vs. Actual Oil Price\")\n",
    "plt.show()"
   ]
  },
  {
   "cell_type": "code",
   "execution_count": 31,
   "metadata": {
    "collapsed": true
   },
   "outputs": [],
   "source": [
    "Y_val=Y_val.reshape(-1)\n",
    "Y_val.shape\n",
    "Y_val=pd.Series(Y_val)"
   ]
  },
  {
   "cell_type": "code",
   "execution_count": 32,
   "metadata": {
    "collapsed": false
   },
   "outputs": [
    {
     "data": {
      "text/plain": [
       "0       4.693273\n",
       "1       4.692906\n",
       "2       4.681205\n",
       "3       4.696290\n",
       "4       4.686934\n",
       "5       4.673576\n",
       "6       4.657952\n",
       "7       4.640634\n",
       "8       4.623403\n",
       "9       4.642177\n",
       "10      4.648038\n",
       "11      4.668708\n",
       "12      4.695833\n",
       "13      4.693364\n",
       "14      4.722420\n",
       "15      4.722509\n",
       "16      4.739089\n",
       "17      4.726680\n",
       "18      4.719213\n",
       "19      4.716354\n",
       "20      4.691348\n",
       "21      4.714921\n",
       "22      4.715548\n",
       "23      4.719481\n",
       "24      4.704382\n",
       "25      4.722509\n",
       "26      4.700571\n",
       "27      4.686105\n",
       "28      4.672548\n",
       "29      4.707907\n",
       "          ...   \n",
       "1503    3.944297\n",
       "1504    3.949511\n",
       "1505    3.964426\n",
       "1506    3.973118\n",
       "1507    3.962716\n",
       "1508    3.982109\n",
       "1509    3.997834\n",
       "1510    3.991943\n",
       "1511    3.999118\n",
       "1512    3.992681\n",
       "1513    4.008423\n",
       "1514    4.016743\n",
       "1515    4.038832\n",
       "1516    4.028561\n",
       "1517    4.016383\n",
       "1518    4.035656\n",
       "1519    4.046554\n",
       "1520    4.055777\n",
       "1521    4.063198\n",
       "1522    4.084631\n",
       "1523    4.090504\n",
       "1524    4.073121\n",
       "1525    4.074142\n",
       "1526    4.043402\n",
       "1527    4.019441\n",
       "1528    4.027492\n",
       "1529    4.025352\n",
       "1530    4.044629\n",
       "1531    4.016383\n",
       "1532    4.012592\n",
       "Length: 1533, dtype: float64"
      ]
     },
     "execution_count": 32,
     "metadata": {},
     "output_type": "execute_result"
    }
   ],
   "source": [
    "Y_val"
   ]
  },
  {
   "cell_type": "code",
   "execution_count": 33,
   "metadata": {
    "collapsed": true
   },
   "outputs": [],
   "source": [
    "predictions=predictions.reshape(-1)\n",
    "predictions.shape\n",
    "predictions=pd.Series(predictions)"
   ]
  },
  {
   "cell_type": "code",
   "execution_count": 34,
   "metadata": {
    "collapsed": false
   },
   "outputs": [
    {
     "data": {
      "text/plain": [
       "0       4.547278\n",
       "1       4.523437\n",
       "2       4.514740\n",
       "3       4.509846\n",
       "4       4.518194\n",
       "5       4.516447\n",
       "6       4.505855\n",
       "7       4.497197\n",
       "8       4.486683\n",
       "9       4.477047\n",
       "10      4.481396\n",
       "11      4.488069\n",
       "12      4.498343\n",
       "13      4.516113\n",
       "14      4.517261\n",
       "15      4.531467\n",
       "16      4.533111\n",
       "17      4.539652\n",
       "18      4.533735\n",
       "19      4.527338\n",
       "20      4.527316\n",
       "21      4.513972\n",
       "22      4.525717\n",
       "23      4.528397\n",
       "24      4.532119\n",
       "25      4.524909\n",
       "26      4.532589\n",
       "27      4.526021\n",
       "28      4.512645\n",
       "29      4.504659\n",
       "          ...   \n",
       "1503    3.932858\n",
       "1504    3.929767\n",
       "1505    3.932732\n",
       "1506    3.944990\n",
       "1507    3.955415\n",
       "1508    3.948978\n",
       "1509    3.960449\n",
       "1510    3.975327\n",
       "1511    3.973744\n",
       "1512    3.976664\n",
       "1513    3.972579\n",
       "1514    3.983723\n",
       "1515    3.992794\n",
       "1516    4.009455\n",
       "1517    4.005824\n",
       "1518    3.994701\n",
       "1519    4.007650\n",
       "1520    4.018502\n",
       "1521    4.027373\n",
       "1522    4.032056\n",
       "1523    4.049046\n",
       "1524    4.057826\n",
       "1525    4.046291\n",
       "1526    4.042827\n",
       "1527    4.021167\n",
       "1528    4.000082\n",
       "1529    4.002300\n",
       "1530    4.003666\n",
       "1531    4.018351\n",
       "1532    4.001763\n",
       "Length: 1533, dtype: float32"
      ]
     },
     "execution_count": 34,
     "metadata": {},
     "output_type": "execute_result"
    }
   ],
   "source": [
    "predictions"
   ]
  },
  {
   "cell_type": "code",
   "execution_count": 35,
   "metadata": {
    "collapsed": true
   },
   "outputs": [],
   "source": [
    "import numpy as np\n",
    "\n",
    "def mda(actual: np.ndarray, predicted: np.ndarray):\n",
    "    \"\"\" Mean Directional Accuracy \"\"\"\n",
    "    return np.mean((np.sign(actual[1:] - actual[:-1]) == np.sign(predicted[1:] - predicted[:-1])).astype(int))"
   ]
  },
  {
   "cell_type": "code",
   "execution_count": 36,
   "metadata": {
    "collapsed": false
   },
   "outputs": [
    {
     "data": {
      "text/plain": [
       "0.9986953685583823"
      ]
     },
     "execution_count": 36,
     "metadata": {},
     "output_type": "execute_result"
    }
   ],
   "source": [
    "mda(Y_val, predictions)"
   ]
  },
  {
   "cell_type": "code",
   "execution_count": 37,
   "metadata": {
    "collapsed": false
   },
   "outputs": [
    {
     "name": "stdout",
     "output_type": "stream",
     "text": [
      "RMSE: 0.128350\n"
     ]
    }
   ],
   "source": [
    "# https://machinelearningmastery.com/time-series-forecasting-performance-measures-with-python/\n",
    "\n",
    "from sklearn.metrics import mean_squared_error\n",
    "from math import sqrt\n",
    "mse = mean_squared_error(Y_val, predictions)\n",
    "rmse = sqrt(mse)\n",
    "print('RMSE: %f' % rmse)"
   ]
  },
  {
   "cell_type": "code",
   "execution_count": 38,
   "metadata": {
    "collapsed": false
   },
   "outputs": [
    {
     "data": {
      "text/plain": [
       "0      -0.145995\n",
       "1      -0.169470\n",
       "2      -0.166465\n",
       "3      -0.186444\n",
       "4      -0.168740\n",
       "5      -0.157129\n",
       "6      -0.152097\n",
       "7      -0.143437\n",
       "8      -0.136720\n",
       "9      -0.165129\n",
       "10     -0.166642\n",
       "11     -0.180640\n",
       "12     -0.197491\n",
       "13     -0.177251\n",
       "14     -0.205159\n",
       "15     -0.191041\n",
       "16     -0.205978\n",
       "17     -0.187028\n",
       "18     -0.185478\n",
       "19     -0.189016\n",
       "20     -0.164032\n",
       "21     -0.200949\n",
       "22     -0.189831\n",
       "23     -0.191084\n",
       "24     -0.172263\n",
       "25     -0.197600\n",
       "26     -0.167982\n",
       "27     -0.160083\n",
       "28     -0.159903\n",
       "29     -0.203248\n",
       "          ...   \n",
       "1503   -0.011439\n",
       "1504   -0.019744\n",
       "1505   -0.031694\n",
       "1506   -0.028128\n",
       "1507   -0.007301\n",
       "1508   -0.033130\n",
       "1509   -0.037385\n",
       "1510   -0.016616\n",
       "1511   -0.025374\n",
       "1512   -0.016017\n",
       "1513   -0.035844\n",
       "1514   -0.033021\n",
       "1515   -0.046038\n",
       "1516   -0.019106\n",
       "1517   -0.010559\n",
       "1518   -0.040955\n",
       "1519   -0.038904\n",
       "1520   -0.037275\n",
       "1521   -0.035825\n",
       "1522   -0.052575\n",
       "1523   -0.041458\n",
       "1524   -0.015295\n",
       "1525   -0.027851\n",
       "1526   -0.000575\n",
       "1527    0.001725\n",
       "1528   -0.027410\n",
       "1529   -0.023052\n",
       "1530   -0.040963\n",
       "1531    0.001968\n",
       "1532   -0.010829\n",
       "Length: 1533, dtype: float64"
      ]
     },
     "execution_count": 38,
     "metadata": {},
     "output_type": "execute_result"
    }
   ],
   "source": [
    "forecast_error = (predictions-Y_val)\n",
    "forecast_error"
   ]
  },
  {
   "cell_type": "code",
   "execution_count": 39,
   "metadata": {
    "collapsed": false
   },
   "outputs": [
    {
     "data": {
      "text/plain": [
       "-0.09622478646512134"
      ]
     },
     "execution_count": 39,
     "metadata": {},
     "output_type": "execute_result"
    }
   ],
   "source": [
    "mean_forecast_error = np.mean(forecast_error)\n",
    "mean_forecast_error"
   ]
  },
  {
   "cell_type": "code",
   "execution_count": 40,
   "metadata": {
    "collapsed": true
   },
   "outputs": [],
   "source": [
    "# Predict last 10 days of oil prices using t-10\n",
    "Xnew = np.array([[57.93,\n",
    "60.68,\n",
    "62.7,\n",
    "61.28,\n",
    "63.99,\n",
    "64.67,\n",
    "63.02,\n",
    "60.76,\n",
    "61.25,\n",
    "68.42],[60.68,\n",
    "62.7,\n",
    "61.28,\n",
    "63.99,\n",
    "64.67,\n",
    "63.02,\n",
    "60.76,\n",
    "61.25,\n",
    "68.42,\n",
    "65.59],[62.7,\n",
    "61.28,\n",
    "63.99,\n",
    "64.67,\n",
    "63.02,\n",
    "60.76,\n",
    "61.25,\n",
    "68.42,\n",
    "65.59,\n",
    "64.29],[61.28,\n",
    "63.99,\n",
    "64.67,\n",
    "63.02,\n",
    "60.76,\n",
    "61.25,\n",
    "68.42,\n",
    "65.59,\n",
    "64.29,\n",
    "64.25],[63.99,\n",
    "64.67,\n",
    "63.02,\n",
    "60.76,\n",
    "61.25,\n",
    "68.42,\n",
    "65.59,\n",
    "64.29,\n",
    "64.25,\n",
    "65.23],[64.67,\n",
    "63.02,\n",
    "60.76,\n",
    "61.25,\n",
    "68.42,\n",
    "65.59,\n",
    "64.29,\n",
    "64.25,\n",
    "65.23,\n",
    "64.66],[63.02,\n",
    "60.76,\n",
    "61.25,\n",
    "68.42,\n",
    "65.59,\n",
    "64.29,\n",
    "64.25,\n",
    "65.23,\n",
    "64.66,\n",
    "64.13],[60.76,\n",
    "61.25,\n",
    "68.42,\n",
    "65.59,\n",
    "64.29,\n",
    "64.25,\n",
    "65.23,\n",
    "64.66,\n",
    "64.13,\n",
    "62.41],[61.25,\n",
    "68.42,\n",
    "65.59,\n",
    "64.29,\n",
    "64.25,\n",
    "65.23,\n",
    "64.66,\n",
    "64.13,\n",
    "62.41,\n",
    "62.08],[68.42,\n",
    "65.59,\n",
    "64.29,\n",
    "64.25,\n",
    "65.23,\n",
    "64.66,\n",
    "64.13,\n",
    "62.41,\n",
    "62.08,\n",
    "62.48]])"
   ]
  },
  {
   "cell_type": "code",
   "execution_count": 41,
   "metadata": {
    "collapsed": false
   },
   "outputs": [
    {
     "data": {
      "text/plain": [
       "array([[57.93, 60.68, 62.7 , 61.28, 63.99, 64.67, 63.02, 60.76, 61.25,\n",
       "        68.42],\n",
       "       [60.68, 62.7 , 61.28, 63.99, 64.67, 63.02, 60.76, 61.25, 68.42,\n",
       "        65.59],\n",
       "       [62.7 , 61.28, 63.99, 64.67, 63.02, 60.76, 61.25, 68.42, 65.59,\n",
       "        64.29],\n",
       "       [61.28, 63.99, 64.67, 63.02, 60.76, 61.25, 68.42, 65.59, 64.29,\n",
       "        64.25],\n",
       "       [63.99, 64.67, 63.02, 60.76, 61.25, 68.42, 65.59, 64.29, 64.25,\n",
       "        65.23],\n",
       "       [64.67, 63.02, 60.76, 61.25, 68.42, 65.59, 64.29, 64.25, 65.23,\n",
       "        64.66],\n",
       "       [63.02, 60.76, 61.25, 68.42, 65.59, 64.29, 64.25, 65.23, 64.66,\n",
       "        64.13],\n",
       "       [60.76, 61.25, 68.42, 65.59, 64.29, 64.25, 65.23, 64.66, 64.13,\n",
       "        62.41],\n",
       "       [61.25, 68.42, 65.59, 64.29, 64.25, 65.23, 64.66, 64.13, 62.41,\n",
       "        62.08],\n",
       "       [68.42, 65.59, 64.29, 64.25, 65.23, 64.66, 64.13, 62.41, 62.08,\n",
       "        62.48]])"
      ]
     },
     "execution_count": 41,
     "metadata": {},
     "output_type": "execute_result"
    }
   ],
   "source": [
    "Xnew"
   ]
  },
  {
   "cell_type": "code",
   "execution_count": 42,
   "metadata": {
    "collapsed": true
   },
   "outputs": [],
   "source": [
    "Xnew = scaler.fit_transform(Xnew)\n",
    "Xnew\n",
    "Xnewformat = np.reshape(Xnew, (Xnew.shape[0], 1, Xnew.shape[1]))\n",
    "ynew=model.predict(Xnewformat)"
   ]
  },
  {
   "cell_type": "code",
   "execution_count": 43,
   "metadata": {
    "collapsed": false
   },
   "outputs": [
    {
     "data": {
      "text/plain": [
       "(10, 10)"
      ]
     },
     "execution_count": 43,
     "metadata": {},
     "output_type": "execute_result"
    }
   ],
   "source": [
    "Xnew.shape"
   ]
  },
  {
   "cell_type": "code",
   "execution_count": 44,
   "metadata": {
    "collapsed": false
   },
   "outputs": [
    {
     "data": {
      "text/plain": [
       "array([[0.76512206],\n",
       "       [0.6051904 ],\n",
       "       [0.41791713],\n",
       "       [0.34282342],\n",
       "       [0.43717358],\n",
       "       [0.4258473 ],\n",
       "       [0.34965914],\n",
       "       [0.15762065],\n",
       "       [0.05851173],\n",
       "       [0.07275078]], dtype=float32)"
      ]
     },
     "execution_count": 44,
     "metadata": {},
     "output_type": "execute_result"
    }
   ],
   "source": [
    "ynew"
   ]
  },
  {
   "cell_type": "code",
   "execution_count": 45,
   "metadata": {
    "collapsed": false
   },
   "outputs": [
    {
     "data": {
      "text/plain": [
       "numpy.ndarray"
      ]
     },
     "execution_count": 45,
     "metadata": {},
     "output_type": "execute_result"
    }
   ],
   "source": [
    "type(ynew)"
   ]
  },
  {
   "cell_type": "code",
   "execution_count": 46,
   "metadata": {
    "collapsed": false
   },
   "outputs": [
    {
     "data": {
      "text/plain": [
       "(10, 1)"
      ]
     },
     "execution_count": 46,
     "metadata": {},
     "output_type": "execute_result"
    }
   ],
   "source": [
    "ynew.shape"
   ]
  },
  {
   "cell_type": "code",
   "execution_count": 47,
   "metadata": {
    "collapsed": true
   },
   "outputs": [],
   "source": [
    "actual = np.array([[65.59,\n",
    "64.29,\n",
    "64.25,\n",
    "65.23,\n",
    "64.66,\n",
    "64.13,\n",
    "62.41,\n",
    "62.08,\n",
    "62.48,\n",
    "60.99\n",
    "]])"
   ]
  },
  {
   "cell_type": "code",
   "execution_count": 48,
   "metadata": {
    "collapsed": false
   },
   "outputs": [
    {
     "data": {
      "text/plain": [
       "(10, 1)"
      ]
     },
     "execution_count": 48,
     "metadata": {},
     "output_type": "execute_result"
    }
   ],
   "source": [
    "actual=actual.reshape(10,-1)\n",
    "actual.shape"
   ]
  },
  {
   "cell_type": "code",
   "execution_count": 49,
   "metadata": {
    "collapsed": false
   },
   "outputs": [
    {
     "data": {
      "text/plain": [
       "array([[65.59],\n",
       "       [64.29],\n",
       "       [64.25],\n",
       "       [65.23],\n",
       "       [64.66],\n",
       "       [64.13],\n",
       "       [62.41],\n",
       "       [62.08],\n",
       "       [62.48],\n",
       "       [60.99]])"
      ]
     },
     "execution_count": 49,
     "metadata": {},
     "output_type": "execute_result"
    }
   ],
   "source": [
    "actual"
   ]
  },
  {
   "cell_type": "code",
   "execution_count": 50,
   "metadata": {
    "collapsed": true
   },
   "outputs": [],
   "source": [
    "ynew=ynew.reshape(-1)\n",
    "actual=actual.reshape(-1)\n",
    "actualpd=pd.Series(actual)"
   ]
  },
  {
   "cell_type": "code",
   "execution_count": 51,
   "metadata": {
    "collapsed": false
   },
   "outputs": [
    {
     "data": {
      "text/plain": [
       "0.0"
      ]
     },
     "execution_count": 51,
     "metadata": {},
     "output_type": "execute_result"
    }
   ],
   "source": [
    "np.min(df)"
   ]
  },
  {
   "cell_type": "code",
   "execution_count": 52,
   "metadata": {
    "collapsed": false
   },
   "outputs": [
    {
     "data": {
      "text/plain": [
       "array([0.76512206, 0.6051904 , 0.41791713, 0.34282342, 0.43717358,\n",
       "       0.4258473 , 0.34965914, 0.15762065, 0.05851173, 0.07275078],\n",
       "      dtype=float32)"
      ]
     },
     "execution_count": 52,
     "metadata": {},
     "output_type": "execute_result"
    }
   ],
   "source": [
    "ynew"
   ]
  },
  {
   "cell_type": "code",
   "execution_count": 53,
   "metadata": {
    "collapsed": true
   },
   "outputs": [],
   "source": [
    "maxoil=np.max(tseries)"
   ]
  },
  {
   "cell_type": "code",
   "execution_count": 54,
   "metadata": {
    "collapsed": true
   },
   "outputs": [],
   "source": [
    "minoil=np.min(tseries)"
   ]
  },
  {
   "cell_type": "code",
   "execution_count": 55,
   "metadata": {
    "collapsed": true
   },
   "outputs": [],
   "source": [
    "ynew = ynew * np.abs(maxoil-minoil) + np.min(tseries)\n",
    "ynewpd=pd.Series(ynew)"
   ]
  },
  {
   "cell_type": "code",
   "execution_count": 56,
   "metadata": {
    "collapsed": false
   },
   "outputs": [
    {
     "data": {
      "text/plain": [
       "0    65.59\n",
       "1    64.29\n",
       "2    64.25\n",
       "3    65.23\n",
       "4    64.66\n",
       "5    64.13\n",
       "6    62.41\n",
       "7    62.08\n",
       "8    62.48\n",
       "9    60.99\n",
       "dtype: float64"
      ]
     },
     "execution_count": 56,
     "metadata": {},
     "output_type": "execute_result"
    }
   ],
   "source": [
    "actualpd"
   ]
  },
  {
   "cell_type": "code",
   "execution_count": 57,
   "metadata": {
    "collapsed": false
   },
   "outputs": [
    {
     "data": {
      "text/plain": [
       "0    112.276711\n",
       "1     90.709930\n",
       "2     65.456131\n",
       "3     55.329742\n",
       "4     68.052856\n",
       "5     66.525513\n",
       "6     56.251541\n",
       "7     30.355146\n",
       "8     16.990309\n",
       "9     18.910442\n",
       "dtype: float32"
      ]
     },
     "execution_count": 57,
     "metadata": {},
     "output_type": "execute_result"
    }
   ],
   "source": [
    "ynewpd"
   ]
  },
  {
   "cell_type": "code",
   "execution_count": 58,
   "metadata": {
    "collapsed": false
   },
   "outputs": [
    {
     "data": {
      "text/plain": [
       "0.8"
      ]
     },
     "execution_count": 58,
     "metadata": {},
     "output_type": "execute_result"
    }
   ],
   "source": [
    "mda(actualpd, ynewpd)"
   ]
  },
  {
   "cell_type": "code",
   "execution_count": 59,
   "metadata": {
    "collapsed": false
   },
   "outputs": [
    {
     "name": "stdout",
     "output_type": "stream",
     "text": [
      "RMSE: 28.069157\n"
     ]
    }
   ],
   "source": [
    "mse = mean_squared_error(actualpd, ynewpd)\n",
    "rmse = sqrt(mse)\n",
    "print('RMSE: %f' % rmse)"
   ]
  },
  {
   "cell_type": "code",
   "execution_count": 60,
   "metadata": {
    "collapsed": false
   },
   "outputs": [
    {
     "data": {
      "text/plain": [
       "0    46.686711\n",
       "1    26.419930\n",
       "2     1.206131\n",
       "3    -9.900258\n",
       "4     3.392856\n",
       "5     2.395513\n",
       "6    -6.158459\n",
       "7   -31.724854\n",
       "8   -45.489691\n",
       "9   -42.079558\n",
       "dtype: float64"
      ]
     },
     "execution_count": 60,
     "metadata": {},
     "output_type": "execute_result"
    }
   ],
   "source": [
    "forecast_error = (ynewpd-actualpd)\n",
    "forecast_error"
   ]
  },
  {
   "cell_type": "code",
   "execution_count": 61,
   "metadata": {
    "collapsed": false
   },
   "outputs": [
    {
     "data": {
      "text/plain": [
       "-5.525167785644531"
      ]
     },
     "execution_count": 61,
     "metadata": {},
     "output_type": "execute_result"
    }
   ],
   "source": [
    "mean_forecast_error = np.mean(forecast_error)\n",
    "mean_forecast_error"
   ]
  },
  {
   "cell_type": "code",
   "execution_count": 62,
   "metadata": {
    "collapsed": false
   },
   "outputs": [
    {
     "data": {
      "image/png": "[encoded data removed]",
      "text/plain": [
       "<Figure size 432x288 with 1 Axes>"
      ]
     },
     "metadata": {},
     "output_type": "display_data"
    }
   ],
   "source": [
    "predictons, =plt.plot(ynewpd, label='Predictions')\n",
    "actual, =plt.plot(actualpd, label='Actual')\n",
    "plt.xlabel('Days')\n",
    "plt.ylabel('Oil Price')\n",
    "plt.title(\"Predicted vs. Actual Oil Prices\")\n",
    "plt.legend(loc = 'upper center')\n",
    "plt.show()"
   ]
  }
 ],
 "metadata": {
  "kernelspec": {
   "display_name": "Python 3",
   "language": "python",
   "name": "python3"
  },
  "language_info": {
   "codemirror_mode": {
    "name": "ipython",
    "version": 3
   },
   "file_extension": ".py",
   "mimetype": "text/x-python",
   "name": "python",
   "nbconvert_exporter": "python",
   "pygments_lexer": "ipython3",
   "version": "3.6.0"
  }
 },
 "nbformat": 4,
 "nbformat_minor": 2
}
